{
 "cells": [
  {
   "cell_type": "code",
   "execution_count": 3,
   "metadata": {},
   "outputs": [],
   "source": [
    "%matplotlib inline\n",
    "import pandas as pd\n",
    "import numpy as np\n",
    "import matplotlib.pyplot as plt\n",
    "import seaborn as sns\n",
    "import os\n",
    "import json\n",
    "import folium\n",
    "import random\n",
    "import collections\n",
    "import unicodedata\n",
    "import datetime"
   ]
  },
  {
   "cell_type": "code",
   "execution_count": 11,
   "metadata": {},
   "outputs": [],
   "source": [
    "json_dir = 'Geojson_output_files/'\n",
    "geo_json_path = r'data/positions-geographiques-des-stations-du-reseau-ratp.geojson'\n",
    "geo_data_path = r'Database/paris_metropolitan_evolution_db.geojson'\n",
    "geo_data_line = r'Database/paris_metropolitan_an_evolution_lines.geojson'"
   ]
  },
  {
   "cell_type": "code",
   "execution_count": 12,
   "metadata": {},
   "outputs": [],
   "source": [
    "paris_geo_1908 = json.load(open(json_dir+'1908_Metropolitan_Stations.geojson'))\n",
    "paris_geo_1915 = json.load(open(json_dir+'1915_Metro_Paris_stations.geojson'))\n",
    "paris_geo_1950 = json.load(open(json_dir+'1950_Metro_stations.geojson'))\n",
    "geo_json_ratp = json.load(open(geo_json_path))\n",
    "geo_database = json.load(open(geo_data_path))\n",
    "geo_lines = json.load(open(geo_data_line))"
   ]
  },
  {
   "cell_type": "code",
   "execution_count": 572,
   "metadata": {},
   "outputs": [
    {
     "name": "stdout",
     "output_type": "stream",
     "text": [
      "stop_name : Guy-Môquet  |stop_id : 1888\n",
      "stop_name : Guy-Môquet  |stop_id : 2284\n"
     ]
    }
   ],
   "source": [
    "search_station(geo_json_ratp,\"Guy-Môquet\")"
   ]
  },
  {
   "cell_type": "code",
   "execution_count": 65,
   "metadata": {},
   "outputs": [],
   "source": [
    "def strip_accents(s):\n",
    "   return ''.join(c for c in unicodedata.normalize('NFD', s)\n",
    "                  if unicodedata.category(c) != 'Mn')\n",
    "\n",
    "def search_station(geo,station):\n",
    "    for feat in geo: #['features']:\n",
    "        if strip_accents(station).lower() in strip_accents(feat['properties']['stop_name']).lower():\n",
    "                print('stop_name :', feat['properties']['stop_name'], \n",
    "                      ' |stop_id :',feat['properties']['stop_id'])\n",
    "                \n",
    "def search_station_df(df,station):\n",
    "    catch = []\n",
    "    for name in df.stop_name.values:\n",
    "        if strip_accents(station.lower()) in strip_accents(name.lower()):\n",
    "            catch.append(name)\n",
    "    print(catch)\n",
    "    return catch\n",
    "                \n",
    "def search_empty(geo):\n",
    "    for feat in geo:\n",
    "        if feat['properties']['open_date'] == None:\n",
    "            print(feat['properties']['stop_name'])\n",
    "                \n",
    "def get_geo_dict(geo_json_map, geo_json_ratp):\n",
    "    map_list_dict = []\n",
    "    for item in geo_json_map['features']:\n",
    "        for feat in geo_json_ratp['features']:\n",
    "            if strip_accents(item[\"properties\"][\"Name\"]) in strip_accents(feat['properties']['stop_name']):\n",
    "                map_list_dict.append({'stop_name' : feat['properties']['stop_name'], 'stop_id': feat['properties']['stop_id'],\n",
    "                                 'line': item[\"properties\"][\"Ligne\"]})\n",
    "    return map_list_dict\n",
    "\n",
    "def insert_ratp_dict(geo_json_map, geo_ratp):\n",
    "    map_list_dict = []\n",
    "    for item, feat in zip(geo_json_map,geo_ratp):\n",
    "        if item['geometry']['coordinates'] == feat['geometry']['coordinates']:\n",
    "            map_list_dict.append({\"type\":\"Feature\",\n",
    "                                  \"properties\":{'stop_id': item['properties']['stop_id'],\n",
    "                                                'stop_name' : feat['properties']['stop_name'], \n",
    "                                                'stop_line': item['properties']['stop_line'],\n",
    "                                                'stop_info': item[\"properties\"][\"stop_info\"],\n",
    "                                                'open_date': lambda x: if isinstance(feat['properties']['open_date'], datetime.datetime) feat[\"properties\"][\"open_date\"].strftime('%Y-%m-%d'),\n",
    "                                                'close_date': feat[\"properties\"][\"close_date\"].strftime('%Y-%m-%d'),\n",
    "                                                'start_map': item[\"properties\"][\"start_map\"],\n",
    "                                                'end_map': item[\"properties\"][\"end_map\"],\n",
    "                                                'ratp_id': feat['properties']['stop_id']},\n",
    "                                  \"geometry\":item[\"geometry\"]})\n",
    "    return map_list_dict    \n",
    "\n",
    "def get_df(list_dict):\n",
    "    df = pd.DataFrame(list_dict)\n",
    "    df.drop_duplicates('stop_name',inplace=True)\n",
    "    df = df.reset_index()\n",
    "    df = df.drop('index', axis=1)\n",
    "    return df\n",
    "\n",
    "def check_dup(geo, df):\n",
    "    dupe = False\n",
    "    for stop in df.stop_name.values:\n",
    "        if strip_accents(geo) == strip_accents(stop):\n",
    "            dupe = True      \n",
    "    return dupe\n",
    "\n",
    "def get_delta(geo_map, df):\n",
    "    delta = []\n",
    "    for feat in geo_map['features']:\n",
    "        if not check_dup(feat[\"properties\"][\"Name\"],df):\n",
    "            delta.append({\"Name\": feat[\"properties\"][\"Name\"], \"line\": feat[\"properties\"][\"Ligne\"]})\n",
    "    return delta\n",
    "\n",
    "def remove_items(delta, stations_list):\n",
    "    for station in stations_list:\n",
    "        for item in delta:\n",
    "            if item[\"Name\"] == station:\n",
    "                item.pop(\"Name\")\n",
    "                item.pop(\"line\")\n",
    "    while {} in delta:\n",
    "        delta.remove({})\n",
    "    return delta\n",
    "\n",
    "def fill_delta(geo_ratp, delta_list_dict, station, line_num):\n",
    "    for feat in geo_ratp['features']:\n",
    "        if strip_accents(station) in strip_accents(feat['properties']['stop_name']):\n",
    "            delta_list_dict.append({'stop_name' : feat['properties']['stop_name'], 'stop_id': feat['properties']['stop_id'],\n",
    "                                   'line': line_num})\n",
    "    return delta_list_dict\n",
    "\n",
    "def remove_station(df, station):\n",
    "    df = df[df.stop_name != station]\n",
    "    return df\n",
    "\n",
    "def remove_index(df, index):\n",
    "    df = df.drop(df.index[index])\n",
    "    return df\n",
    "\n",
    "def merge_df(df1,df2):\n",
    "    frames = [df1,df2]\n",
    "    df = pd.concat(frames).reset_index()\n",
    "    df = df.drop('index', axis=1)\n",
    "    return df\n",
    "\n",
    "def merge_df_three(df1,df2,df3):\n",
    "    frames = [df1,df2,df3]\n",
    "    df = pd.concat(frames).reset_index()\n",
    "    df = df.drop('index', axis=1)\n",
    "    return df\n",
    "\n",
    "def add_date(df, station, date):\n",
    "    df.loc[df[\"stop_name\"] == station, [\"open_date\"]] = date\n",
    "    return df\n",
    "\n",
    "def add_closedate(df, station, date):\n",
    "    df.loc[df[\"stop_name\"] == station, [\"close_date\"]] = date\n",
    "    return df\n",
    "\n",
    "def add_station(df, line, id_, name, add, close):\n",
    "    df.loc[-1] = [line,id_, name , add, close]\n",
    "    df.index = df.index + 1  # shifting index\n",
    "    df = df.sort_index()  # sorting by index\n",
    "    return df\n",
    "\n",
    "def make_excel(df, name):\n",
    "    writer = pd.ExcelWriter('excels/'+name+'.xlsx')\n",
    "    df.to_excel(writer,'Sheet1')\n",
    "    writer.save()\n",
    "    \n",
    "def random_num():\n",
    "    return random.randint(1111,9999)"
   ]
  },
  {
   "cell_type": "code",
   "execution_count": 66,
   "metadata": {
    "scrolled": true
   },
   "outputs": [
    {
     "ename": "AttributeError",
     "evalue": "'str' object has no attribute 'strftime'",
     "output_type": "error",
     "traceback": [
      "\u001b[0;31m---------------------------------------------------------------------------\u001b[0m",
      "\u001b[0;31mAttributeError\u001b[0m                            Traceback (most recent call last)",
      "\u001b[0;32m<ipython-input-66-d0fc36bda005>\u001b[0m in \u001b[0;36m<module>\u001b[0;34m()\u001b[0m\n\u001b[0;32m----> 1\u001b[0;31m \u001b[0mgeo_paris_dict\u001b[0m \u001b[0;34m=\u001b[0m \u001b[0minsert_ratp_dict\u001b[0m\u001b[0;34m(\u001b[0m\u001b[0mgeo_database\u001b[0m\u001b[0;34m,\u001b[0m \u001b[0mcheck_geo\u001b[0m\u001b[0;34m)\u001b[0m\u001b[0;34m\u001b[0m\u001b[0m\n\u001b[0m",
      "\u001b[0;32m<ipython-input-65-14331c5c64eb>\u001b[0m in \u001b[0;36minsert_ratp_dict\u001b[0;34m(geo_json_map, geo_ratp)\u001b[0m\n\u001b[1;32m     40\u001b[0m                                                 \u001b[0;34m'stop_line'\u001b[0m\u001b[0;34m:\u001b[0m \u001b[0mitem\u001b[0m\u001b[0;34m[\u001b[0m\u001b[0;34m'properties'\u001b[0m\u001b[0;34m]\u001b[0m\u001b[0;34m[\u001b[0m\u001b[0;34m'stop_line'\u001b[0m\u001b[0;34m]\u001b[0m\u001b[0;34m,\u001b[0m\u001b[0;34m\u001b[0m\u001b[0m\n\u001b[1;32m     41\u001b[0m                                                 \u001b[0;34m'stop_info'\u001b[0m\u001b[0;34m:\u001b[0m \u001b[0mitem\u001b[0m\u001b[0;34m[\u001b[0m\u001b[0;34m\"properties\"\u001b[0m\u001b[0;34m]\u001b[0m\u001b[0;34m[\u001b[0m\u001b[0;34m\"stop_info\"\u001b[0m\u001b[0;34m]\u001b[0m\u001b[0;34m,\u001b[0m\u001b[0;34m\u001b[0m\u001b[0m\n\u001b[0;32m---> 42\u001b[0;31m                                                 \u001b[0;34m'open_date'\u001b[0m\u001b[0;34m:\u001b[0m \u001b[0mfeat\u001b[0m\u001b[0;34m[\u001b[0m\u001b[0;34m\"properties\"\u001b[0m\u001b[0;34m]\u001b[0m\u001b[0;34m[\u001b[0m\u001b[0;34m\"open_date\"\u001b[0m\u001b[0;34m]\u001b[0m\u001b[0;34m.\u001b[0m\u001b[0mstrftime\u001b[0m\u001b[0;34m(\u001b[0m\u001b[0;34m'%Y-%m-%d'\u001b[0m\u001b[0;34m)\u001b[0m\u001b[0;34m,\u001b[0m\u001b[0;34m\u001b[0m\u001b[0m\n\u001b[0m\u001b[1;32m     43\u001b[0m                                                 \u001b[0;34m'close_date'\u001b[0m\u001b[0;34m:\u001b[0m \u001b[0mfeat\u001b[0m\u001b[0;34m[\u001b[0m\u001b[0;34m\"properties\"\u001b[0m\u001b[0;34m]\u001b[0m\u001b[0;34m[\u001b[0m\u001b[0;34m\"close_date\"\u001b[0m\u001b[0;34m]\u001b[0m\u001b[0;34m.\u001b[0m\u001b[0mstrftime\u001b[0m\u001b[0;34m(\u001b[0m\u001b[0;34m'%Y-%m-%d'\u001b[0m\u001b[0;34m)\u001b[0m\u001b[0;34m,\u001b[0m\u001b[0;34m\u001b[0m\u001b[0m\n\u001b[1;32m     44\u001b[0m                                                 \u001b[0;34m'start_map'\u001b[0m\u001b[0;34m:\u001b[0m \u001b[0mitem\u001b[0m\u001b[0;34m[\u001b[0m\u001b[0;34m\"properties\"\u001b[0m\u001b[0;34m]\u001b[0m\u001b[0;34m[\u001b[0m\u001b[0;34m\"start_map\"\u001b[0m\u001b[0;34m]\u001b[0m\u001b[0;34m,\u001b[0m\u001b[0;34m\u001b[0m\u001b[0m\n",
      "\u001b[0;31mAttributeError\u001b[0m: 'str' object has no attribute 'strftime'"
     ]
    }
   ],
   "source": [
    "geo_paris_dict = insert_ratp_dict(geo_database, check_geo)"
   ]
  },
  {
   "cell_type": "code",
   "execution_count": 62,
   "metadata": {
    "scrolled": true
   },
   "outputs": [
    {
     "data": {
      "text/plain": [
       "425"
      ]
     },
     "execution_count": 62,
     "metadata": {},
     "output_type": "execute_result"
    }
   ],
   "source": [
    "len(geo_paris_dict)"
   ]
  },
  {
   "cell_type": "code",
   "execution_count": 63,
   "metadata": {},
   "outputs": [
    {
     "data": {
      "text/plain": [
       "425"
      ]
     },
     "execution_count": 63,
     "metadata": {},
     "output_type": "execute_result"
    }
   ],
   "source": [
    "len(geo_database)"
   ]
  },
  {
   "cell_type": "code",
   "execution_count": 35,
   "metadata": {},
   "outputs": [],
   "source": [
    "test_dict = []\n",
    "test_dict.append({'type':'Feature','properties':{\"Name\": 'Yev', 'Last': 'Chervonenko'},'geometry':{'type':'Point','coord':'12345'}})\n",
    "test_dict.append({'type':'Feature','properties':{\"Name\": 'Kevin', 'Last': 'Blin'},'geometry':{'type':'Point','coord':'12345'}})"
   ]
  },
  {
   "cell_type": "code",
   "execution_count": 36,
   "metadata": {},
   "outputs": [
    {
     "data": {
      "text/plain": [
       "[{'type': 'Feature',\n",
       "  'properties': {'Name': 'Yev', 'Last': 'Chervonenko'},\n",
       "  'geometry': {'type': 'Point', 'coord': '12345'}},\n",
       " {'type': 'Feature',\n",
       "  'properties': {'Name': 'Kevin', 'Last': 'Blin'},\n",
       "  'geometry': {'type': 'Point', 'coord': '12345'}}]"
      ]
     },
     "execution_count": 36,
     "metadata": {},
     "output_type": "execute_result"
    }
   ],
   "source": [
    "test_dict"
   ]
  },
  {
   "cell_type": "code",
   "execution_count": 22,
   "metadata": {
    "scrolled": true
   },
   "outputs": [],
   "source": [
    "delta = get_delta(paris_geo_1915, paris_1915_df)"
   ]
  },
  {
   "cell_type": "code",
   "execution_count": null,
   "metadata": {},
   "outputs": [],
   "source": [
    "delta_list_dict = []"
   ]
  },
  {
   "cell_type": "code",
   "execution_count": null,
   "metadata": {
    "scrolled": true
   },
   "outputs": [],
   "source": [
    "paris_1915_delta = pd.DataFrame(delta_list_dict)\n",
    "paris_1915_delta.drop_duplicates('stop_name',inplace=True)\n",
    "paris_1915_delta = paris_1915_delta.reset_index()\n",
    "paris_1915_delta = paris_1915_delta.drop('index', axis=1)\n",
    "paris_1915_delta"
   ]
  },
  {
   "cell_type": "code",
   "execution_count": null,
   "metadata": {},
   "outputs": [],
   "source": [
    "paris_1915_delta = paris_1915_delta.drop(paris_1915_delta.index[[0]])\n",
    "paris_1915_delta"
   ]
  },
  {
   "cell_type": "code",
   "execution_count": null,
   "metadata": {},
   "outputs": [],
   "source": [
    "paris_1915_delta = paris_1915_delta.drop(paris_1915_delta.index[[4]])"
   ]
  },
  {
   "cell_type": "code",
   "execution_count": null,
   "metadata": {},
   "outputs": [],
   "source": [
    "paris_1915_delta"
   ]
  },
  {
   "cell_type": "code",
   "execution_count": null,
   "metadata": {},
   "outputs": [],
   "source": [
    "frames = [paris_1915_delta,paris_1915_df]\n",
    "frames"
   ]
  },
  {
   "cell_type": "code",
   "execution_count": null,
   "metadata": {},
   "outputs": [],
   "source": [
    "paris_1915 = pd.concat(frames).reset_index()\n",
    "paris_1915 = paris_1915.drop('index', axis=1)\n",
    "paris_1915"
   ]
  },
  {
   "cell_type": "code",
   "execution_count": null,
   "metadata": {},
   "outputs": [],
   "source": [
    "paris_1915['open_date'] = ''"
   ]
  },
  {
   "cell_type": "code",
   "execution_count": null,
   "metadata": {},
   "outputs": [],
   "source": [
    "paris_1915 = paris_1915[paris_1915.stop_name != \"\"]"
   ]
  },
  {
   "cell_type": "code",
   "execution_count": null,
   "metadata": {},
   "outputs": [],
   "source": [
    "paris_1915.loc[paris_1915[\"stop_name\"] == \"Eglise d'Auteuil\", [\"stop_name\"]] = \"Wilhem\"\n"
   ]
  },
  {
   "cell_type": "code",
   "execution_count": null,
   "metadata": {},
   "outputs": [],
   "source": [
    "paris_1915.loc[-1] = [\"8\",random.randint(1111,9999),\"Champ de Mars\",\"\"]\n",
    "paris_1915.index = paris_1915.index + 1  # shifting index\n",
    "paris_1915 = paris_1915.sort_index()  # sorting by index"
   ]
  },
  {
   "cell_type": "code",
   "execution_count": null,
   "metadata": {},
   "outputs": [],
   "source": [
    "paris_1915"
   ]
  },
  {
   "cell_type": "code",
   "execution_count": null,
   "metadata": {},
   "outputs": [],
   "source": [
    "paris_1915.loc[paris_1915.line == \"3\"]"
   ]
  },
  {
   "cell_type": "code",
   "execution_count": null,
   "metadata": {},
   "outputs": [],
   "source": [
    "paris_1915.loc[paris_1915[\"stop_name\"] == \"Porte de Champerret\", [\"open_date\"]] = '1911-02-15'"
   ]
  },
  {
   "cell_type": "code",
   "execution_count": null,
   "metadata": {
    "scrolled": true
   },
   "outputs": [],
   "source": [
    "paris_1915"
   ]
  },
  {
   "cell_type": "code",
   "execution_count": null,
   "metadata": {},
   "outputs": [],
   "source": [
    "writer = pd.ExcelWriter('paris_1915.xlsx')\n",
    "paris_1915.to_excel(writer,'Sheet1')\n",
    "writer.save()"
   ]
  },
  {
   "cell_type": "code",
   "execution_count": 37,
   "metadata": {},
   "outputs": [],
   "source": [
    "list_dict_1950 = get_geo_dict(paris_geo_1950,geo_json_ratp)"
   ]
  },
  {
   "cell_type": "code",
   "execution_count": 38,
   "metadata": {},
   "outputs": [],
   "source": [
    "paris_1950_df = get_df(list_dict_1950)"
   ]
  },
  {
   "cell_type": "code",
   "execution_count": 39,
   "metadata": {},
   "outputs": [],
   "source": [
    "delta_1950 = get_delta(paris_geo_1950, paris_1950_df)"
   ]
  },
  {
   "cell_type": "code",
   "execution_count": 184,
   "metadata": {},
   "outputs": [],
   "source": [
    "delta_list_1950 = []"
   ]
  },
  {
   "cell_type": "code",
   "execution_count": 229,
   "metadata": {},
   "outputs": [],
   "source": [
    "delta_catch_1950 = fill_delta(geo_json_ratp,delta_list_1950, \"Sablons\", \"1\")"
   ]
  },
  {
   "cell_type": "code",
   "execution_count": 231,
   "metadata": {},
   "outputs": [],
   "source": [
    "paris_1950_delta_df = get_df(delta_catch_1950)"
   ]
  },
  {
   "cell_type": "code",
   "execution_count": 238,
   "metadata": {
    "scrolled": true
   },
   "outputs": [],
   "source": [
    "paris_1950 = merge_df(paris_1950_df,paris_1950_delta_df)"
   ]
  },
  {
   "cell_type": "code",
   "execution_count": 453,
   "metadata": {},
   "outputs": [],
   "source": [
    "paris_1908 = remove_station(paris_1908,\"Martin Nadaud\")"
   ]
  },
  {
   "cell_type": "code",
   "execution_count": 419,
   "metadata": {},
   "outputs": [],
   "source": [
    "paris_1908 = pd.read_excel('excels/paris_1908.xlsx')"
   ]
  },
  {
   "cell_type": "code",
   "execution_count": 383,
   "metadata": {},
   "outputs": [],
   "source": [
    "paris_1915['close_date'] = ''"
   ]
  },
  {
   "cell_type": "code",
   "execution_count": 475,
   "metadata": {
    "scrolled": true
   },
   "outputs": [
    {
     "data": {
      "text/html": [
       "<div>\n",
       "<style scoped>\n",
       "    .dataframe tbody tr th:only-of-type {\n",
       "        vertical-align: middle;\n",
       "    }\n",
       "\n",
       "    .dataframe tbody tr th {\n",
       "        vertical-align: top;\n",
       "    }\n",
       "\n",
       "    .dataframe thead th {\n",
       "        text-align: right;\n",
       "    }\n",
       "</style>\n",
       "<table border=\"1\" class=\"dataframe\">\n",
       "  <thead>\n",
       "    <tr style=\"text-align: right;\">\n",
       "      <th></th>\n",
       "      <th>stop_name</th>\n",
       "      <th>stop_id</th>\n",
       "      <th>coord</th>\n",
       "      <th>line</th>\n",
       "      <th>open_date</th>\n",
       "      <th>close_date</th>\n",
       "    </tr>\n",
       "  </thead>\n",
       "  <tbody>\n",
       "    <tr>\n",
       "      <th>113</th>\n",
       "      <td>Gare d'Austerlitz</td>\n",
       "      <td>1951</td>\n",
       "      <td>[48.84341422414371, 2.3641883928676424]</td>\n",
       "      <td>NaN</td>\n",
       "      <td>1930-10-15</td>\n",
       "      <td>NaN</td>\n",
       "    </tr>\n",
       "  </tbody>\n",
       "</table>\n",
       "</div>"
      ],
      "text/plain": [
       "             stop_name  stop_id                                    coord line  \\\n",
       "113  Gare d'Austerlitz     1951  [48.84341422414371, 2.3641883928676424]  NaN   \n",
       "\n",
       "      open_date close_date  \n",
       "113  1930-10-15        NaN  "
      ]
     },
     "execution_count": 475,
     "metadata": {},
     "output_type": "execute_result"
    }
   ],
   "source": [
    "#paris_1908.loc[paris_1908.stop_name == \"Châtelet\",[\"stop_id\"]] = 1966\n",
    "paris_1908.loc[paris_1908.stop_name == \"Gare d'Austerlitz\"]\n",
    "               "
   ]
  },
  {
   "cell_type": "code",
   "execution_count": 474,
   "metadata": {},
   "outputs": [
    {
     "data": {
      "text/html": [
       "<div>\n",
       "<style scoped>\n",
       "    .dataframe tbody tr th:only-of-type {\n",
       "        vertical-align: middle;\n",
       "    }\n",
       "\n",
       "    .dataframe tbody tr th {\n",
       "        vertical-align: top;\n",
       "    }\n",
       "\n",
       "    .dataframe thead th {\n",
       "        text-align: right;\n",
       "    }\n",
       "</style>\n",
       "<table border=\"1\" class=\"dataframe\">\n",
       "  <thead>\n",
       "    <tr style=\"text-align: right;\">\n",
       "      <th></th>\n",
       "      <th>stop_name</th>\n",
       "      <th>stop_id</th>\n",
       "      <th>coord</th>\n",
       "      <th>line</th>\n",
       "      <th>open_date</th>\n",
       "      <th>close_date</th>\n",
       "    </tr>\n",
       "  </thead>\n",
       "  <tbody>\n",
       "    <tr>\n",
       "      <th>112</th>\n",
       "      <td>Gare d'Orléans</td>\n",
       "      <td>1951</td>\n",
       "      <td>[48.84371986136062, 2.3639162171627124]</td>\n",
       "      <td>NaN</td>\n",
       "      <td>1906-06-02</td>\n",
       "      <td>1930-10-15</td>\n",
       "    </tr>\n",
       "  </tbody>\n",
       "</table>\n",
       "</div>"
      ],
      "text/plain": [
       "          stop_name  stop_id                                    coord line  \\\n",
       "112  Gare d'Orléans     1951  [48.84371986136062, 2.3639162171627124]  NaN   \n",
       "\n",
       "      open_date  close_date  \n",
       "112  1906-06-02  1930-10-15  "
      ]
     },
     "execution_count": 474,
     "metadata": {},
     "output_type": "execute_result"
    }
   ],
   "source": [
    "paris_1908.loc[paris_1908.stop_name == \"Gare d'Orléans\"]"
   ]
  },
  {
   "cell_type": "code",
   "execution_count": 407,
   "metadata": {},
   "outputs": [],
   "source": [
    "paris_1915 = add_station(paris_1915, 8, 2057, \"Avenue Emile-Zola\", '1913-07-13','')\n"
   ]
  },
  {
   "cell_type": "code",
   "execution_count": 434,
   "metadata": {
    "scrolled": true
   },
   "outputs": [],
   "source": [
    "paris_1908 = add_date(paris_1908, \"Jaurès\", '1914-08-01')"
   ]
  },
  {
   "cell_type": "code",
   "execution_count": 473,
   "metadata": {},
   "outputs": [],
   "source": [
    "paris_1908 = add_closedate(paris_1908, \"Gare d'Orléans\", '1930-10-15')"
   ]
  },
  {
   "cell_type": "code",
   "execution_count": 459,
   "metadata": {},
   "outputs": [],
   "source": [
    "#paris_1908 = add_station(paris_1908, 8, 2031, \"Charles Michels\", '1945-07-14','')\n",
    "paris_1908.loc[-1] = [\"Arsenal\",random_num(), '' , '', '1906-12-17', '1939-09-02']\n",
    "paris_1908.index = paris_1908.index + 1  # shifting index\n",
    "paris_1908 = paris_1908.sort_index()  # sorting by index\n"
   ]
  },
  {
   "cell_type": "code",
   "execution_count": 468,
   "metadata": {},
   "outputs": [
    {
     "name": "stdout",
     "output_type": "stream",
     "text": [
      "stop_name : Gare d'Austerlitz  |stop_id : 1952\n",
      "stop_name : Gare d'Austerlitz  |stop_id : 2206\n",
      "stop_name : Gare d'Austerlitz  |stop_id : 1951\n",
      "stop_name : Gare d'Austerlitz  |stop_id : 2207\n"
     ]
    }
   ],
   "source": [
    "search_station(\"Gare d'Austerlitz\")"
   ]
  },
  {
   "cell_type": "code",
   "execution_count": 477,
   "metadata": {},
   "outputs": [],
   "source": [
    "make_excel(paris_1908, 'paris_1908')"
   ]
  },
  {
   "cell_type": "code",
   "execution_count": 952,
   "metadata": {},
   "outputs": [],
   "source": [
    "paris_1908 = pd.read_excel('excels/paris_1908.xlsx')\n",
    "paris_1915 = pd.read_excel('excels/paris_1915.xlsx')\n",
    "paris_1950 = pd.read_excel('excels/paris_1950.xlsx')"
   ]
  },
  {
   "cell_type": "code",
   "execution_count": 953,
   "metadata": {
    "scrolled": true
   },
   "outputs": [
    {
     "name": "stderr",
     "output_type": "stream",
     "text": [
      "/Users/yev/anaconda3/lib/python3.6/site-packages/ipykernel_launcher.py:87: FutureWarning: Sorting because non-concatenation axis is not aligned. A future version\n",
      "of pandas will change to not sort by default.\n",
      "\n",
      "To accept the future behavior, pass 'sort=True'.\n",
      "\n",
      "To retain the current behavior and silence the warning, pass sort=False\n",
      "\n"
     ]
    }
   ],
   "source": [
    "metro_paris = merge_df_three(paris_1908,paris_1915,paris_1950)"
   ]
  },
  {
   "cell_type": "code",
   "execution_count": 14,
   "metadata": {},
   "outputs": [],
   "source": [
    "def rename_station_geo(geo):\n",
    "    for item in metro_paris.values:\n",
    "        for feat in geo:\n",
    "            if strip_accents(feat['properties'][\"stop_name\"]) == strip_accents(item[5]):\n",
    "                feat['properties'][\"stop_name\"] = item[5]\n",
    "                feat['properties'][\"open_date\"] = item[3]\n",
    "                feat['properties'][\"stop_id\"] = item[4]\n",
    "                feat['properties'][\"close_date\"] = item[0]\n",
    "            \n",
    "def rename_station(from_, to_):\n",
    "    for feat in geo_database:\n",
    "        if strip_accents(feat['properties'][\"stop_name\"]) == strip_accents(from_):\n",
    "            feat['properties'][\"stop_name\"] = to_\n",
    "\n",
    "def save_geo(geo, name):\n",
    "    #Write result to a new file\n",
    "    with open('Database/'+name+'.geojson', 'w') as f:\n",
    "        json.dump(geo, f)\n",
    "\n",
    "def manual_adjust(geo, geo_name, df_name):\n",
    "    array = metro_paris.loc[metro_paris.stop_name == df_name].values[0]\n",
    "    for feat in geo:\n",
    "        if strip_accents(feat['properties'][\"stop_name\"]) == strip_accents(geo_name):\n",
    "            feat['properties'][\"open_date\"] = array[3]\n",
    "            feat['properties'][\"stop_id\"] = array[4]\n",
    "            feat['properties'][\"close_date\"] = array[0]"
   ]
  },
  {
   "cell_type": "code",
   "execution_count": 942,
   "metadata": {},
   "outputs": [
    {
     "data": {
      "text/plain": [
       "2030"
      ]
     },
     "execution_count": 942,
     "metadata": {},
     "output_type": "execute_result"
    }
   ],
   "source": [
    "metro_paris.loc[metro_paris.stop_name == \"Etoile\"].values[0][4]"
   ]
  },
  {
   "cell_type": "code",
   "execution_count": 787,
   "metadata": {},
   "outputs": [],
   "source": [
    "rename_station_geo()"
   ]
  },
  {
   "cell_type": "code",
   "execution_count": 786,
   "metadata": {},
   "outputs": [],
   "source": [
    "geo_tmp = geo_database.copy()"
   ]
  },
  {
   "cell_type": "code",
   "execution_count": 975,
   "metadata": {
    "scrolled": false
   },
   "outputs": [],
   "source": [
    "search_empty(geo_temp)"
   ]
  },
  {
   "cell_type": "code",
   "execution_count": 982,
   "metadata": {
    "scrolled": false
   },
   "outputs": [
    {
     "name": "stdout",
     "output_type": "stream",
     "text": [
      "['Bir-Hakeim (Grenelle)', 'La Motte-Picquet-Grenelle', 'Beaugrenelle']\n"
     ]
    }
   ],
   "source": [
    "rename = search_station_df(metro_paris,\"grenelle\")"
   ]
  },
  {
   "cell_type": "code",
   "execution_count": 974,
   "metadata": {},
   "outputs": [],
   "source": [
    "manual_adjust(geo_temp, \"Gare d'Orleans - Austerlitz\", rename[0])"
   ]
  },
  {
   "cell_type": "code",
   "execution_count": 672,
   "metadata": {},
   "outputs": [],
   "source": [
    "rename_station(\"La Motte-Pichet Grenelle\",rename[0])"
   ]
  },
  {
   "cell_type": "code",
   "execution_count": 978,
   "metadata": {},
   "outputs": [],
   "source": [
    "for item in geo_temp:\n",
    "    if isinstance(item['properties']['close_date'], datetime.datetime):\n",
    "        item['properties']['close_date'] = item['properties']['close_date'].strftime('%Y/%m/%d')"
   ]
  },
  {
   "cell_type": "code",
   "execution_count": 64,
   "metadata": {
    "scrolled": true
   },
   "outputs": [],
   "source": [
    "save_geo(geo_paris_dict,'paris_metropolitan_evolution_db_updated')"
   ]
  },
  {
   "cell_type": "code",
   "execution_count": 67,
   "metadata": {},
   "outputs": [],
   "source": [
    "check_geo = json.load(open('Database/paris_metropolitan_evolution_db_updated.geojson'))"
   ]
  },
  {
   "cell_type": "code",
   "execution_count": 68,
   "metadata": {
    "scrolled": true
   },
   "outputs": [
    {
     "name": "stdout",
     "output_type": "stream",
     "text": [
      "{'stop_id': 19081, 'stop_name': 'Porte Maillot', 'stop_line': '1', 'stop_info': None, 'open_date': '1900-07-19', 'close_date': nan, 'start_map': 1908, 'end_map': 1950, 'ratp_id': 2433}\n",
      "{'stop_id': 19082, 'stop_name': 'Porte Dauphine', 'stop_line': '2 Nord', 'stop_info': None, 'open_date': '1900-12-13', 'close_date': nan, 'start_map': 1908, 'end_map': 1908, 'ratp_id': 2414}\n",
      "{'stop_id': 19083, 'stop_name': 'Porte Dauphine', 'stop_line': '2 Nord', 'stop_info': None, 'open_date': '1900-12-13', 'close_date': nan, 'start_map': 1908, 'end_map': 1908, 'ratp_id': 2414}\n",
      "{'stop_id': 19084, 'stop_name': 'Victor Hugo', 'stop_line': '2 Nord', 'stop_info': None, 'open_date': '1900-12-13', 'close_date': nan, 'start_map': 1908, 'end_map': 1908, 'ratp_id': 2504}\n",
      "{'stop_id': 19085, 'stop_name': 'Obligado', 'stop_line': '1', 'stop_info': None, 'open_date': '1900-07-19', 'close_date': '1948-05-25', 'start_map': 1908, 'end_map': 1915, 'ratp_id': 2048}\n",
      "{'stop_id': 19086, 'stop_name': 'Etoile', 'stop_line': '2 Nord', 'stop_info': None, 'open_date': '1900-07-19', 'close_date': nan, 'start_map': 1908, 'end_map': 1908, 'ratp_id': 2030}\n",
      "{'stop_id': 19087, 'stop_name': 'Ternes', 'stop_line': '2 Nord', 'stop_info': None, 'open_date': '1902-10-07', 'close_date': nan, 'start_map': 1908, 'end_map': 1908, 'ratp_id': 1684}\n",
      "{'stop_id': 19088, 'stop_name': 'Courcelles', 'stop_line': '2 Nord', 'stop_info': None, 'open_date': '1902-10-07', 'close_date': nan, 'start_map': 1908, 'end_map': 1908, 'ratp_id': 2179}\n",
      "{'stop_id': 19089, 'stop_name': 'Monceau', 'stop_line': '2 Nord', 'stop_info': None, 'open_date': '1902-10-07', 'close_date': nan, 'start_map': 1908, 'end_map': 1908, 'ratp_id': 1822}\n",
      "{'stop_id': 190810, 'stop_name': 'Villiers', 'stop_line': '2 Nord', 'stop_info': None, 'open_date': '1902-10-07', 'close_date': nan, 'start_map': 1908, 'end_map': 1908, 'ratp_id': 1630}\n",
      "{'stop_id': 190811, 'stop_name': 'Kléber', 'stop_line': '2 Sud', 'stop_info': None, 'open_date': '1900-10-02', 'close_date': nan, 'start_map': 1908, 'end_map': 1908, 'ratp_id': 2234}\n",
      "{'stop_id': 190812, 'stop_name': 'Alma', 'stop_line': '1', 'stop_info': None, 'open_date': '1900-07-19', 'close_date': '1920-05-27', 'start_map': 1908, 'end_map': 1915, 'ratp_id': 1961}\n",
      "{'stop_id': 190813, 'stop_name': 'Boissière', 'stop_line': '2 Sud', 'stop_info': None, 'open_date': '1900-10-02', 'close_date': nan, 'start_map': 1908, 'end_map': 1908, 'ratp_id': 2122}\n",
      "{'stop_id': 190814, 'stop_name': 'Rome', 'stop_line': '2 Nord', 'stop_info': None, 'open_date': '1902-10-07', 'close_date': nan, 'start_map': 1908, 'end_map': 1908, 'ratp_id': 1707}\n",
      "{'stop_id': 190815, 'stop_name': 'Marbeuf', 'stop_line': '1', 'stop_info': None, 'open_date': '1900-07-19', 'close_date': nan, 'start_map': 1908, 'end_map': 1915, 'ratp_id': 1946}\n",
      "{'stop_id': 190816, 'stop_name': 'Trocadéro', 'stop_line': '2 Sud', 'stop_info': None, 'open_date': '1900-10-02', 'close_date': nan, 'start_map': 1908, 'end_map': 1908, 'ratp_id': 1687}\n",
      "{'stop_id': 190817, 'stop_name': 'Passy', 'stop_line': '2 Sud', 'stop_info': None, 'open_date': '1903-11-05', 'close_date': nan, 'start_map': 1908, 'end_map': 1908, 'ratp_id': 1780}\n",
      "{'stop_id': 190818, 'stop_name': 'Champs-Elysées', 'stop_line': '1', 'stop_info': None, 'open_date': '1900-07-19', 'close_date': nan, 'start_map': 1908, 'end_map': 1915, 'ratp_id': 2544}\n",
      "{'stop_id': 190819, 'stop_name': 'Place de Clichy', 'stop_line': '2 Nord', 'stop_info': None, 'open_date': '1902-10-07', 'close_date': nan, 'start_map': 1908, 'end_map': 1908, 'ratp_id': 1796}\n",
      "{'stop_id': 190820, 'stop_name': 'Blanche', 'stop_line': '2 Nord', 'stop_info': None, 'open_date': '1902-10-07', 'close_date': nan, 'start_map': 1908, 'end_map': 1908, 'ratp_id': 2120}\n",
      "{'stop_id': 190821, 'stop_name': 'Pigalle', 'stop_line': '2 Nord', 'stop_info': None, 'open_date': '1902-10-07', 'close_date': nan, 'start_map': 1908, 'end_map': 1908, 'ratp_id': 1792}\n",
      "{'stop_id': 190822, 'stop_name': 'Saint-Lazare', 'stop_line': '3', 'stop_info': None, 'open_date': '1904-10-19', 'close_date': nan, 'start_map': 1908, 'end_map': 1950, 'ratp_id': 2468}\n",
      "{'stop_id': 190823, 'stop_name': 'Grenelle', 'stop_line': '2 Sud', 'stop_info': None, 'open_date': '1906-04-24', 'close_date': nan, 'start_map': 1908, 'end_map': 1908, 'ratp_id': 2069}\n",
      "{'stop_id': 190824, 'stop_name': 'Concorde', 'stop_line': '1', 'stop_info': None, 'open_date': '1900-07-19', 'close_date': nan, 'start_map': 1908, 'end_map': 1950, 'ratp_id': 2172}\n",
      "{'stop_id': 190825, 'stop_name': 'Tuileries', 'stop_line': '1', 'stop_info': None, 'open_date': '1900-07-19', 'close_date': nan, 'start_map': 1908, 'end_map': 1950, 'ratp_id': 1688}\n",
      "{'stop_id': 190826, 'stop_name': 'Palais-Royal', 'stop_line': '1', 'stop_info': None, 'open_date': '1900-07-19', 'close_date': nan, 'start_map': 1908, 'end_map': 1950, 'ratp_id': 2383}\n",
      "{'stop_id': 190827, 'stop_name': 'Caumartin', 'stop_line': '3', 'stop_info': None, 'open_date': '1904-10-19', 'close_date': nan, 'start_map': 1908, 'end_map': 1915, 'ratp_id': 2286}\n",
      "{'stop_id': 190828, 'stop_name': 'Opéra', 'stop_line': '3', 'stop_info': None, 'open_date': '1904-10-19', 'close_date': nan, 'start_map': 1908, 'end_map': 1950, 'ratp_id': 2314}\n",
      "{'stop_id': 190829, 'stop_name': 'Anvers', 'stop_line': '2 Nord', 'stop_info': None, 'open_date': '1902-10-07', 'close_date': nan, 'start_map': 1908, 'end_map': 1908, 'ratp_id': 2046}\n",
      "{'stop_id': 190830, 'stop_name': 'Barbès-Rochechouart', 'stop_line': '4', 'stop_info': None, 'open_date': '1903-01-31', 'close_date': nan, 'start_map': 1908, 'end_map': 1908, 'ratp_id': 2061}\n",
      "{'stop_id': 190831, 'stop_name': 'Dupleix', 'stop_line': '2 Sud', 'stop_info': None, 'open_date': '1906-04-24', 'close_date': nan, 'start_map': 1908, 'end_map': 1908, 'ratp_id': 2251}\n",
      "{'stop_id': 190832, 'stop_name': 'Motte-Picquet', 'stop_line': '2 Sud', 'stop_info': None, 'open_date': '1906-04-24', 'close_date': nan, 'start_map': 1908, 'end_map': 1908, 'ratp_id': 2241}\n",
      "{'stop_id': 190833, 'stop_name': 'Cambronne', 'stop_line': '2 Sud', 'stop_info': None, 'open_date': '1906-04-24', 'close_date': nan, 'start_map': 1908, 'end_map': 1908, 'ratp_id': 2135}\n",
      "{'stop_id': 190834, 'stop_name': 'Sèvres-Lecourbe', 'stop_line': '2 Sud', 'stop_info': None, 'open_date': '1906-04-24', 'close_date': nan, 'start_map': 1908, 'end_map': 1908, 'ratp_id': 1665}\n",
      "{'stop_id': 190835, 'stop_name': 'Château Rouge', 'stop_line': '4', 'stop_info': None, 'open_date': '1908-04-21', 'close_date': nan, 'start_map': 1908, 'end_map': 1950, 'ratp_id': 2033}\n",
      "{'stop_id': 190836, 'stop_name': '4 Septembre', 'stop_line': '3', 'stop_info': None, 'open_date': '1904-10-19', 'close_date': nan, 'start_map': 1908, 'end_map': 1950, 'ratp_id': 1760}\n",
      "{'stop_id': 190837, 'stop_name': 'Bourse', 'stop_line': '3', 'stop_info': None, 'open_date': '1904-10-19', 'close_date': nan, 'start_map': 1908, 'end_map': 1950, 'ratp_id': 2196}\n",
      "{'stop_id': 190838, 'stop_name': 'Sentier', 'stop_line': '3', 'stop_info': None, 'open_date': '1904-10-19', 'close_date': nan, 'start_map': 1908, 'end_map': 1950, 'ratp_id': 2542}\n",
      "{'stop_id': 190839, 'stop_name': 'Saint-Denis', 'stop_line': '4', 'stop_info': None, 'open_date': '1908-04-21', 'close_date': nan, 'start_map': 1908, 'end_map': 1915, 'ratp_id': 1678}\n",
      "{'stop_id': 190840, 'stop_name': \"Château d'Eau\", 'stop_line': '4', 'stop_info': None, 'open_date': '1908-04-21', 'close_date': nan, 'start_map': 1908, 'end_map': 1950, 'ratp_id': 2034}\n",
      "{'stop_id': 190841, 'stop_name': \"Gare de l'Est\", 'stop_line': '4', 'stop_info': None, 'open_date': '1907-11-15', 'close_date': nan, 'start_map': 1908, 'end_map': 1950, 'ratp_id': 1954}\n",
      "{'stop_id': 190842, 'stop_name': 'Lancry', 'stop_line': '5', 'stop_info': None, 'open_date': '1906-12-17', 'close_date': '1946-02-10', 'start_map': 1908, 'end_map': 1950, 'ratp_id': 1898}\n",
      "{'stop_id': 190843, 'stop_name': 'Arts-et-Métiers', 'stop_line': '3', 'stop_info': None, 'open_date': '1904-10-19', 'close_date': nan, 'start_map': 1908, 'end_map': 1950, 'ratp_id': 2051}\n",
      "{'stop_id': 190844, 'stop_name': 'Halles', 'stop_line': '4', 'stop_info': None, 'open_date': '1908-04-21', 'close_date': nan, 'start_map': 1908, 'end_map': 1950, 'ratp_id': 2322}\n",
      "{'stop_id': 190845, 'stop_name': 'Louvre', 'stop_line': '1', 'stop_info': None, 'open_date': '1900-07-19', 'close_date': nan, 'start_map': 1908, 'end_map': 1950, 'ratp_id': 1864}\n",
      "{'stop_id': 190846, 'stop_name': 'Etienne Marcel', 'stop_line': '4', 'stop_info': None, 'open_date': '1908-04-21', 'close_date': nan, 'start_map': 1908, 'end_map': 1950, 'ratp_id': 2259}\n",
      "{'stop_id': 190847, 'stop_name': 'Hôtel de Ville', 'stop_line': '1', 'stop_info': None, 'open_date': '1900-07-19', 'close_date': nan, 'start_map': 1908, 'end_map': 1950, 'ratp_id': 1892}\n",
      "{'stop_id': 190848, 'stop_name': 'Châtelet', 'stop_line': '1', 'stop_info': None, 'open_date': '1900-07-19', 'close_date': nan, 'start_map': 1908, 'end_map': 1950, 'ratp_id': 1966}\n",
      "{'stop_id': 190849, 'stop_name': 'Cité', 'stop_line': '4', 'stop_info': None, 'open_date': '1910-01-09', 'close_date': nan, 'start_map': 1908, 'end_map': 1950, 'ratp_id': 2230}\n",
      "{'stop_id': 190850, 'stop_name': 'Châtelet', 'stop_line': '4', 'stop_info': None, 'open_date': '1900-07-19', 'close_date': nan, 'start_map': 1908, 'end_map': 1950, 'ratp_id': 1966}\n",
      "{'stop_id': 190852, 'stop_name': 'Saint-Michel', 'stop_line': '4', 'stop_info': None, 'open_date': '1910-01-09', 'close_date': nan, 'start_map': 1908, 'end_map': 1950, 'ratp_id': 2472}\n",
      "{'stop_id': 190853, 'stop_name': 'Odéon', 'stop_line': '4', 'stop_info': None, 'open_date': '1910-01-09', 'close_date': nan, 'start_map': 1908, 'end_map': 1950, 'ratp_id': 2533}\n",
      "{'stop_id': 190854, 'stop_name': 'Saint-Germain des Prés', 'stop_line': '4', 'stop_info': None, 'open_date': '1910-01-09', 'close_date': nan, 'start_map': 1908, 'end_map': 1950, 'ratp_id': 2466}\n",
      "{'stop_id': 190855, 'stop_name': 'Saint-Sulpice', 'stop_line': '4', 'stop_info': None, 'open_date': '1910-01-09', 'close_date': nan, 'start_map': 1908, 'end_map': 1950, 'ratp_id': 2411}\n",
      "{'stop_id': 190856, 'stop_name': 'Vaugirard', 'stop_line': '4', 'stop_info': None, 'open_date': '1910-01-09', 'close_date': '1913-11-15', 'start_map': 1908, 'end_map': 1908, 'ratp_id': 1731}\n",
      "{'stop_id': 190857, 'stop_name': 'Gare Montparnasse', 'stop_line': '4', 'stop_info': None, 'open_date': '1910-01-09', 'close_date': nan, 'start_map': 1908, 'end_map': 1915, 'ratp_id': 1824}\n",
      "{'stop_id': 190858, 'stop_name': 'Maine', 'stop_line': '2 Sud', 'stop_info': None, 'open_date': '1906-04-24', 'close_date': '1933-06-30', 'start_map': 1908, 'end_map': 1908, 'ratp_id': 4944}\n",
      "{'stop_id': 190859, 'stop_name': 'Pasteur', 'stop_line': '2 Sud', 'stop_info': None, 'open_date': '1906-04-24', 'close_date': nan, 'start_map': 1908, 'end_map': 1908, 'ratp_id': 2392}\n",
      "{'stop_id': 190860, 'stop_name': 'Gare du Nord', 'stop_line': '5', 'stop_info': None, 'open_date': '1907-11-15', 'close_date': nan, 'start_map': 1908, 'end_map': 1950, 'ratp_id': 2212}\n",
      "{'stop_id': 190861, 'stop_name': 'Barbès-Rochechouart', 'stop_line': '2 Nord', 'stop_info': None, 'open_date': '1903-01-31', 'close_date': nan, 'start_map': 1908, 'end_map': 1908, 'ratp_id': 2061}\n",
      "{'stop_id': 190862, 'stop_name': 'La Chapelle', 'stop_line': '2 Nord', 'stop_info': None, 'open_date': '1903-01-31', 'close_date': nan, 'start_map': 1908, 'end_map': 1908, 'ratp_id': 2235}\n",
      "{'stop_id': 190863, 'stop_name': 'Aubervilliers', 'stop_line': '2 Nord', 'stop_info': None, 'open_date': '1903-01-31', 'close_date': nan, 'start_map': 1908, 'end_map': 1908, 'ratp_id': 2486}\n",
      "{'stop_id': 190864, 'stop_name': 'Marcadet', 'stop_line': '4', 'stop_info': None, 'open_date': '1908-04-21', 'close_date': nan, 'start_map': 1908, 'end_map': 1915, 'ratp_id': 2535}\n",
      "{'stop_id': 190865, 'stop_name': 'Simplon', 'stop_line': '4', 'stop_info': None, 'open_date': '1908-04-21', 'close_date': nan, 'start_map': 1908, 'end_map': 1950, 'ratp_id': 1668}\n",
      "{'stop_id': 190866, 'stop_name': 'Allemagne', 'stop_line': '2 Nord', 'stop_info': None, 'open_date': '1903-01-31', 'close_date': '1914-08-01', 'start_map': 1908, 'end_map': 1908, 'ratp_id': 1900}\n",
      "{'stop_id': 190867, 'stop_name': 'Combat', 'stop_line': '2 Nord', 'stop_info': None, 'open_date': '1903-01-31', 'close_date': '1945-08-19', 'start_map': 1908, 'end_map': 1908, 'ratp_id': 1978}\n",
      "{'stop_id': 190868, 'stop_name': 'République', 'stop_line': '3', 'stop_info': None, 'open_date': '1906-12-17', 'close_date': nan, 'start_map': 1908, 'end_map': 1950, 'ratp_id': 2527}\n",
      "{'stop_id': 190869, 'stop_name': 'Porte de Clignancourt', 'stop_line': '4', 'stop_info': None, 'open_date': '1908-04-21', 'close_date': nan, 'start_map': 1908, 'end_map': 1950, 'ratp_id': 2420}\n",
      "{'stop_id': 190870, 'stop_name': 'Belleville', 'stop_line': '2 Nord', 'stop_info': None, 'open_date': '1903-01-31', 'close_date': nan, 'start_map': 1908, 'end_map': 1908, 'ratp_id': 2115}\n",
      "{'stop_id': 190871, 'stop_name': 'Couronnes', 'stop_line': '2 Nord', 'stop_info': None, 'open_date': '1903-01-31', 'close_date': nan, 'start_map': 1908, 'end_map': 1908, 'ratp_id': 2128}\n",
      "{'stop_id': 190872, 'stop_name': 'Ménilmontant', 'stop_line': '2 Nord', 'stop_info': None, 'open_date': '1903-01-31', 'close_date': nan, 'start_map': 1908, 'end_map': 1908, 'ratp_id': 2351}\n",
      "{'stop_id': 190873, 'stop_name': 'Père-Lachaise', 'stop_line': '3', 'stop_info': None, 'open_date': '1904-10-19', 'close_date': nan, 'start_map': 1908, 'end_map': 1950, 'ratp_id': 2394}\n",
      "{'stop_id': 190874, 'stop_name': 'Martin Nadaud', 'stop_line': '3', 'stop_info': None, 'open_date': '1905-01-25', 'close_date': '1969-08-23', 'start_map': 1908, 'end_map': 1950, 'ratp_id': 4576}\n",
      "{'stop_id': 190875, 'stop_name': 'Philippe Auguste', 'stop_line': '2 Nord', 'stop_info': None, 'open_date': '1903-01-31', 'close_date': nan, 'start_map': 1908, 'end_map': 1908, 'ratp_id': 2398}\n",
      "{'stop_id': 190876, 'stop_name': 'Gambetta', 'stop_line': '3', 'stop_info': None, 'open_date': '1905-01-25', 'close_date': nan, 'start_map': 1908, 'end_map': 1950, 'ratp_id': 1659}\n",
      "{'stop_id': 190877, 'stop_name': 'Bagnolet', 'stop_line': '2 Nord', 'stop_info': None, 'open_date': '1903-01-31', 'close_date': '1970-09-13', 'start_map': 1908, 'end_map': 1908, 'ratp_id': 2041}\n",
      "{'stop_id': 190878, 'stop_name': 'Parmentier', 'stop_line': '3', 'stop_info': None, 'open_date': '1904-10-19', 'close_date': nan, 'start_map': 1908, 'end_map': 1950, 'ratp_id': 1779}\n",
      "{'stop_id': 190879, 'stop_name': 'Rue Saint-Maur', 'stop_line': '3', 'stop_info': None, 'open_date': '1904-10-19', 'close_date': nan, 'start_map': 1908, 'end_map': 1950, 'ratp_id': 1728}\n",
      "{'stop_id': 190880, 'stop_name': 'Oberkampf', 'stop_line': '5', 'stop_info': None, 'open_date': '1906-12-17', 'close_date': nan, 'start_map': 1908, 'end_map': 1950, 'ratp_id': 2310}\n",
      "{'stop_id': 190881, 'stop_name': 'Richard-Lenoir', 'stop_line': '5', 'stop_info': None, 'open_date': '1906-12-17', 'close_date': nan, 'start_map': 1908, 'end_map': 1950, 'ratp_id': 1700}\n",
      "{'stop_id': 190882, 'stop_name': 'Bréguet-Sabin', 'stop_line': '5', 'stop_info': None, 'open_date': '1906-12-17', 'close_date': nan, 'start_map': 1908, 'end_map': 1950, 'ratp_id': 2008}\n",
      "{'stop_id': 190883, 'stop_name': 'Bastille', 'stop_line': '5', 'stop_info': None, 'open_date': '1900-07-19', 'close_date': nan, 'start_map': 1908, 'end_map': 1950, 'ratp_id': 2062}\n",
      "{'stop_id': 190884, 'stop_name': 'Saint-Paul', 'stop_line': '1', 'stop_info': None, 'open_date': '1900-07-19', 'close_date': nan, 'start_map': 1908, 'end_map': 1950, 'ratp_id': 2522}\n",
      "{'stop_id': 190885, 'stop_name': 'Arsenal', 'stop_line': '5', 'stop_info': None, 'open_date': '1906-12-17', 'close_date': '1939-09-02', 'start_map': 1908, 'end_map': 1950, 'ratp_id': 6545}\n",
      "{'stop_id': 190886, 'stop_name': 'Avron', 'stop_line': '2 Nord', 'stop_info': None, 'open_date': '1903-04-02', 'close_date': nan, 'start_map': 1908, 'end_map': 1908, 'ratp_id': 2107}\n",
      "{'stop_id': 190887, 'stop_name': 'Gare de Lyon', 'stop_line': '1', 'stop_info': 'The station was built for the World Exposition of 1900. On multiple levels, it is considered a classic example of the architecture of its time. Most notable is the large clock tower atop one corner of the station, similar in style to the clock tower of t', 'open_date': '1900-07-19', 'close_date': nan, 'start_map': 1908, 'end_map': 1950, 'ratp_id': 2210}\n",
      "{'stop_id': 190888, 'stop_name': 'Austerlitz', 'stop_line': '5', 'stop_info': None, 'open_date': '1906-07-14', 'close_date': '1916-06-01', 'start_map': 1908, 'end_map': 1915, 'ratp_id': 1759}\n",
      "{'stop_id': 190889, 'stop_name': \"Gare d'Orléans\", 'stop_line': '5', 'stop_info': None, 'open_date': '1906-06-02', 'close_date': '1930-10-15', 'start_map': 1908, 'end_map': 1915, 'ratp_id': 1951}\n",
      "{'stop_id': 190890, 'stop_name': 'Reuilly-Diderot', 'stop_line': '1', 'stop_info': None, 'open_date': '1900-07-19', 'close_date': nan, 'start_map': 1908, 'end_map': 1950, 'ratp_id': 1698}\n",
      "{'stop_id': 190891, 'stop_name': 'Nation', 'stop_line': '6', 'stop_info': 'Widely known for having the most active guillotines during the French Revolution, the square was renamed Place de la Nation on Bastille Day, 14 July 1880, under the Third Republic.The square includes a large bronze sculpture, the Triomphe de la Républiq', 'open_date': '1900-07-19', 'close_date': nan, 'start_map': 1908, 'end_map': 1950, 'ratp_id': 2371}\n",
      "{'stop_id': 190892, 'stop_name': 'St-Mandé', 'stop_line': '6', 'stop_info': None, 'open_date': '1909-03-01', 'close_date': '1937-03-01', 'start_map': 1908, 'end_map': 1915, 'ratp_id': 1789}\n",
      "{'stop_id': 190893, 'stop_name': 'Bel-Air', 'stop_line': '6', 'stop_info': None, 'open_date': '1909-03-01', 'close_date': nan, 'start_map': 1908, 'end_map': 1950, 'ratp_id': 2114}\n",
      "{'stop_id': 190894, 'stop_name': 'Daumesnil', 'stop_line': '6', 'stop_info': None, 'open_date': '1909-03-01', 'close_date': nan, 'start_map': 1908, 'end_map': 1950, 'ratp_id': 3343795}\n",
      "{'stop_id': 190895, 'stop_name': 'Charenton', 'stop_line': '6', 'stop_info': None, 'open_date': '1909-03-01', 'close_date': '1939-07-12', 'start_map': 1908, 'end_map': 1915, 'ratp_id': 2082}\n",
      "{'stop_id': 190896, 'stop_name': 'Bercy', 'stop_line': '6', 'stop_info': None, 'open_date': '1909-03-01', 'close_date': nan, 'start_map': 1908, 'end_map': 1950, 'ratp_id': 1166831}\n",
      "{'stop_id': 190897, 'stop_name': 'Quai de la Gare', 'stop_line': '6', 'stop_info': None, 'open_date': '1909-03-01', 'close_date': nan, 'start_map': 1908, 'end_map': 1950, 'ratp_id': 1644}\n",
      "{'stop_id': 190898, 'stop_name': 'Chevaleret', 'stop_line': '6', 'stop_info': None, 'open_date': '1909-03-01', 'close_date': nan, 'start_map': 1908, 'end_map': 1950, 'ratp_id': 2229}\n",
      "{'stop_id': 190899, 'stop_name': 'Porte de Vincennes', 'stop_line': '1', 'stop_info': None, 'open_date': '1900-07-19', 'close_date': nan, 'start_map': 1908, 'end_map': 1950, 'ratp_id': 1751}\n",
      "{'stop_id': 1908100, 'stop_name': 'Saint-Marcel', 'stop_line': '5', 'stop_info': None, 'open_date': '1906-06-02', 'close_date': nan, 'start_map': 1908, 'end_map': 1950, 'ratp_id': 1641}\n",
      "{'stop_id': 1908101, 'stop_name': 'Nationale', 'stop_line': '6', 'stop_info': None, 'open_date': '1909-03-01', 'close_date': nan, 'start_map': 1908, 'end_map': 1950, 'ratp_id': 1836}\n",
      "{'stop_id': 1908102, 'stop_name': 'Campo-Formio', 'stop_line': '5', 'stop_info': None, 'open_date': '1906-06-02', 'close_date': nan, 'start_map': 1908, 'end_map': 1950, 'ratp_id': 2136}\n",
      "{'stop_id': 1908103, 'stop_name': \"Place d'Italie\", 'stop_line': '2 Sud', 'stop_info': None, 'open_date': '1906-04-24', 'close_date': nan, 'start_map': 1908, 'end_map': 1908, 'ratp_id': 1794}\n",
      "{'stop_id': 1908104, 'stop_name': 'Corvisart', 'stop_line': '2 Sud', 'stop_info': None, 'open_date': '1906-04-24', 'close_date': nan, 'start_map': 1908, 'end_map': 1908, 'ratp_id': 2177}\n",
      "{'stop_id': 1908105, 'stop_name': 'Glacière', 'stop_line': '2 Sud', 'stop_info': None, 'open_date': '1906-04-24', 'close_date': nan, 'start_map': 1908, 'end_map': 1908, 'ratp_id': 2217}\n",
      "{'stop_id': 1908106, 'stop_name': 'Saint-Jacques', 'stop_line': '2 Sud', 'stop_info': None, 'open_date': '1906-04-24', 'close_date': nan, 'start_map': 1908, 'end_map': 1908, 'ratp_id': 2520}\n",
      "{'stop_id': 1908107, 'stop_name': 'Vavin', 'stop_line': '4', 'stop_info': None, 'open_date': '1910-01-09', 'close_date': nan, 'start_map': 1908, 'end_map': 1950, 'ratp_id': 2502}\n",
      "{'stop_id': 1908108, 'stop_name': 'Raspail', 'stop_line': '2 Sud', 'stop_info': None, 'open_date': '1910-01-09', 'close_date': nan, 'start_map': 1908, 'end_map': 1908, 'ratp_id': 1763}\n",
      "{'stop_id': 1908109, 'stop_name': 'Raspail', 'stop_line': '4', 'stop_info': None, 'open_date': '1910-01-09', 'close_date': nan, 'start_map': 1908, 'end_map': 1950, 'ratp_id': 1763}\n",
      "{'stop_id': 1908110, 'stop_name': 'Denfert-Rochereau', 'stop_line': '4', 'stop_info': None, 'open_date': '1909-10-30', 'close_date': nan, 'start_map': 1908, 'end_map': 1950, 'ratp_id': 2187}\n",
      "{'stop_id': 1908111, 'stop_name': 'Denfert-Rochereau', 'stop_line': '2 Sud', 'stop_info': None, 'open_date': '1909-10-30', 'close_date': nan, 'start_map': 1908, 'end_map': 1908, 'ratp_id': 2187}\n",
      "{'stop_id': 1908112, 'stop_name': 'Mouton-Duvernet', 'stop_line': '4', 'stop_info': None, 'open_date': '1909-10-30', 'close_date': nan, 'start_map': 1908, 'end_map': 1908, 'ratp_id': 2367}\n",
      "{'stop_id': 1908113, 'stop_name': 'Alésia', 'stop_line': '4', 'stop_info': None, 'open_date': '1909-10-30', 'close_date': nan, 'start_map': 1908, 'end_map': 1908, 'ratp_id': 2159}\n",
      "{'stop_id': 1908114, 'stop_name': \"Porte d'Orléans\", 'stop_line': '4', 'stop_info': None, 'open_date': '1909-10-30', 'close_date': nan, 'start_map': 1908, 'end_map': 1950, 'ratp_id': 2413}\n",
      "{'stop_id': 1908115, 'stop_name': 'Edgar-Quinet', 'stop_line': '2 Sud', 'stop_info': None, 'open_date': '1906-04-24', 'close_date': nan, 'start_map': 1908, 'end_map': 1908, 'ratp_id': 2255}\n",
      "{'stop_id': 1908116, 'stop_name': 'Réaumur-Sébastopol', 'stop_line': '3', 'stop_info': None, 'open_date': '1908-04-21', 'close_date': nan, 'start_map': 1908, 'end_map': 1950, 'ratp_id': 1764}\n",
      "{'stop_id': 1908117, 'stop_name': 'Temple', 'stop_line': '3', 'stop_info': None, 'open_date': '1904-10-19', 'close_date': nan, 'start_map': 1908, 'end_map': 1950, 'ratp_id': 2493}\n",
      "{'stop_id': 1908118, 'stop_name': 'Europe', 'stop_line': '3', 'stop_info': None, 'open_date': '1904-10-19', 'close_date': nan, 'start_map': 1908, 'end_map': 1950, 'ratp_id': 1935}\n",
      "{'stop_id': 1908119, 'stop_name': 'Bastille', 'stop_line': '5', 'stop_info': None, 'open_date': '1900-07-19', 'close_date': nan, 'start_map': 1908, 'end_map': 1950, 'ratp_id': 2062}\n",
      "{'stop_id': 1908120, 'stop_name': 'Villiers', 'stop_line': '3', 'stop_info': None, 'open_date': '1902-10-07', 'close_date': nan, 'start_map': 1908, 'end_map': 1950, 'ratp_id': 1630}\n",
      "{'stop_id': 1908121, 'stop_name': 'Gare du Nord', 'stop_line': '4', 'stop_info': None, 'open_date': '1907-11-15', 'close_date': nan, 'start_map': 1908, 'end_map': 1950, 'ratp_id': 2212}\n",
      "{'stop_id': 1908122, 'stop_name': \"Gare de l'Est\", 'stop_line': '5', 'stop_info': None, 'open_date': '1907-11-15', 'close_date': nan, 'start_map': 1908, 'end_map': 1950, 'ratp_id': 1954}\n",
      "{'stop_id': 1908123, 'stop_name': 'République', 'stop_line': '5', 'stop_info': None, 'open_date': '1906-12-17', 'close_date': nan, 'start_map': 1908, 'end_map': 1950, 'ratp_id': 2527}\n",
      "{'stop_id': 1908124, 'stop_name': 'Père-Lachaise', 'stop_line': '2 Nord', 'stop_info': None, 'open_date': '1904-10-19', 'close_date': nan, 'start_map': 1908, 'end_map': 1908, 'ratp_id': 2394}\n",
      "{'stop_id': 1908125, 'stop_name': 'Nation', 'stop_line': '2 Nord', 'stop_info': 'Widely known for having the most active guillotines during the French Revolution, the square was renamed Place de la Nation on Bastille Day, 14 July 1880, under the Third Republic.The square includes a large bronze sculpture, the Triomphe de la Républiq', 'open_date': '1900-07-19', 'close_date': nan, 'start_map': 1908, 'end_map': 1908, 'ratp_id': 2371}\n",
      "{'stop_id': 1908126, 'stop_name': 'Nation', 'stop_line': '1', 'stop_info': 'Widely known for having the most active guillotines during the French Revolution, the square was renamed Place de la Nation on Bastille Day, 14 July 1880, under the Third Republic.The square includes a large bronze sculpture, the Triomphe de la Républiq', 'open_date': '1900-07-19', 'close_date': nan, 'start_map': 1908, 'end_map': 1950, 'ratp_id': 2371}\n",
      "{'stop_id': 1908127, 'stop_name': \"Place d'Italie\", 'stop_line': '5', 'stop_info': None, 'open_date': '1906-04-24', 'close_date': nan, 'start_map': 1908, 'end_map': 1950, 'ratp_id': 1794}\n",
      "{'stop_id': 1908128, 'stop_name': \"Place d'Italie\", 'stop_line': '6', 'stop_info': None, 'open_date': '1906-04-24', 'close_date': nan, 'start_map': 1908, 'end_map': 1950, 'ratp_id': 1794}\n",
      "{'stop_id': 1908129, 'stop_name': 'Etoile', 'stop_line': '1', 'stop_info': None, 'open_date': '1900-07-19', 'close_date': nan, 'start_map': 1908, 'end_map': 1950, 'ratp_id': 2030}\n",
      "{'stop_id': 1908130, 'stop_name': 'Etoile', 'stop_line': '2 Sud', 'stop_info': None, 'open_date': '1900-07-19', 'close_date': nan, 'start_map': 1908, 'end_map': 1908, 'ratp_id': 2030}\n",
      "{'stop_id': 1908131, 'stop_name': 'Réaumur-Sébastopol', 'stop_line': '4', 'stop_info': None, 'open_date': '1908-04-21', 'close_date': nan, 'start_map': 1908, 'end_map': 1950, 'ratp_id': 1764}\n",
      "{'stop_id': 19151, 'stop_name': 'Malesherbes', 'stop_line': '3', 'stop_info': None, 'open_date': '1910-05-23', 'close_date': nan, 'start_map': 1915, 'end_map': 1950, 'ratp_id': 2277}\n",
      "{'stop_id': 19152, 'stop_name': 'Wagram', 'stop_line': '3', 'stop_info': None, 'open_date': '1910-05-23', 'close_date': nan, 'start_map': 1915, 'end_map': 1950, 'ratp_id': 1634}\n",
      "{'stop_id': 19153, 'stop_name': 'Pereire', 'stop_line': '3', 'stop_info': None, 'open_date': '1910-05-23', 'close_date': nan, 'start_map': 1915, 'end_map': 1950, 'ratp_id': 1786}\n",
      "{'stop_id': 19154, 'stop_name': 'Porte de Champerret', 'stop_line': '3', 'stop_info': None, 'open_date': '1911-02-15', 'close_date': nan, 'start_map': 1915, 'end_map': 1950, 'ratp_id': 1738}\n",
      "{'stop_id': 19155, 'stop_name': \"Porte d'Auteuil\", 'stop_line': '8', 'stop_info': None, 'open_date': '1913-09-30', 'close_date': nan, 'start_map': 1915, 'end_map': 1915, 'ratp_id': 2346}\n",
      "{'stop_id': 19155, 'stop_name': \"Porte d'Auteuil\", 'stop_line': '10', 'stop_info': 'A portion of line 8, which includes station Auteuil, was affiliated to line 10 in-between 1915 and 1950', 'open_date': '1913-09-30', 'close_date': nan, 'start_map': 1950, 'end_map': 1950, 'ratp_id': 2346}\n",
      "{'stop_id': 19156, 'stop_name': 'Michel-Ange-Molitor', 'stop_line': '8', 'stop_info': None, 'open_date': '1913-09-30', 'close_date': nan, 'start_map': 1915, 'end_map': 1915, 'ratp_id': 1816}\n",
      "{'stop_id': 19156, 'stop_name': 'Michel-Ange-Molitor', 'stop_line': '10', 'stop_info': 'A portion of line 8, which includes station Rue Michel-Ange, was affiliated to line 10 in-between 1915 and 1950', 'open_date': '1913-09-30', 'close_date': nan, 'start_map': 1950, 'end_map': 1950, 'ratp_id': 1816}\n",
      "{'stop_id': 19157, 'stop_name': 'Mirabeau', 'stop_line': '8', 'stop_info': None, 'open_date': '1913-09-30', 'close_date': nan, 'start_map': 1915, 'end_map': 1915, 'ratp_id': 1818}\n",
      "{'stop_id': 19157, 'stop_name': 'Mirabeau', 'stop_line': '10', 'stop_info': 'A portion of line 8, which includes station Mirabeau, was affiliated to line 10 in-between 1915 and 1950', 'open_date': '1913-09-30', 'close_date': nan, 'start_map': 1950, 'end_map': 1950, 'ratp_id': 1818}\n",
      "{'stop_id': 19158, 'stop_name': 'Michel-Ange-Auteuil', 'stop_line': '8', 'stop_info': None, 'open_date': '1913-09-30', 'close_date': nan, 'start_map': 1915, 'end_map': 1915, 'ratp_id': 2354}\n",
      "{'stop_id': 19158, 'stop_name': 'Michel-Ange-Auteuil', 'stop_line': '10', 'stop_info': \"A portion of line 8, which includes station Rue Michel-Ange - Rue d'Auteuil, was affiliated to line 10 in-between 1915 and 1950\", 'open_date': '1913-09-30', 'close_date': nan, 'start_map': 1950, 'end_map': 1950, 'ratp_id': 2354}\n",
      "{'stop_id': 19159, 'stop_name': 'Wilhem', 'stop_line': '8', 'stop_info': \"Becomes Eglise d'Auteuil, Ligne 10\", 'open_date': '1913-09-30', 'close_date': '1921/05/15', 'start_map': 1915, 'end_map': 1915, 'ratp_id': 2256}\n",
      "{'stop_id': 191510, 'stop_name': 'Chardon-Lagache', 'stop_line': '8', 'stop_info': None, 'open_date': '1913-09-30', 'close_date': nan, 'start_map': 1915, 'end_map': 1915, 'ratp_id': 2026}\n",
      "{'stop_id': 191510, 'stop_name': 'Chardon-Lagache', 'stop_line': '10', 'stop_info': 'A portion of line 8, which includes station Chardon-Lagache, was affiliated to line 10 in-between 1915 and 1950', 'open_date': '1913-09-30', 'close_date': nan, 'start_map': 1950, 'end_map': 1950, 'ratp_id': 2026}\n",
      "{'stop_id': 191511, 'stop_name': 'Javel', 'stop_line': '8', 'stop_info': None, 'open_date': '1913-09-30', 'close_date': nan, 'start_map': 1915, 'end_map': 1915, 'ratp_id': 2299}\n",
      "{'stop_id': 191511, 'stop_name': 'Javel', 'stop_line': '10', 'stop_info': 'A portion of line 8, which includes station Javel, was affiliated to line 10 in-between 1915 and 1950', 'open_date': '1913-09-30', 'close_date': nan, 'start_map': 1950, 'end_map': 1950, 'ratp_id': 2299}\n",
      "{'stop_id': 191512, 'stop_name': 'Beaugrenelle', 'stop_line': '8', 'stop_info': None, 'open_date': '1913-07-13', 'close_date': '1945/07/14', 'start_map': 1915, 'end_map': 1915, 'ratp_id': 2031}\n",
      "{'stop_id': 191513, 'stop_name': 'Commerce', 'stop_line': '8', 'stop_info': None, 'open_date': '1937-07-27', 'close_date': nan, 'start_map': 1915, 'end_map': 1915, 'ratp_id': 3343753}\n",
      "{'stop_id': 191514, 'stop_name': 'La Motte-Picquet-Grenelle', 'stop_line': '8', 'stop_info': None, 'open_date': '1906-04-24', 'close_date': nan, 'start_map': 1915, 'end_map': 1950, 'ratp_id': 2241}\n",
      "{'stop_id': 191515, 'stop_name': 'Champ de Mars', 'stop_line': '8', 'stop_info': None, 'open_date': '1913-07-13', 'close_date': '1939/09/02', 'start_map': 1915, 'end_map': 1950, 'ratp_id': 1536}\n",
      "{'stop_id': 191516, 'stop_name': 'Ecole Militaire', 'stop_line': '8', 'stop_info': None, 'open_date': '1913-07-13', 'close_date': nan, 'start_map': 1915, 'end_map': 1950, 'ratp_id': 3343758}\n",
      "{'stop_id': 191517, 'stop_name': 'La Tour-Maubourg', 'stop_line': '8', 'stop_info': None, 'open_date': '1913-07-13', 'close_date': nan, 'start_map': 1915, 'end_map': 1950, 'ratp_id': 3343759}\n",
      "{'stop_id': 191518, 'stop_name': 'Invalides', 'stop_line': '8', 'stop_info': None, 'open_date': '1913-07-13', 'close_date': nan, 'start_map': 1915, 'end_map': 1950, 'ratp_id': 3343761}\n",
      "{'stop_id': 191519, 'stop_name': 'Concorde', 'stop_line': '8', 'stop_info': None, 'open_date': '1900-07-19', 'close_date': nan, 'start_map': 1915, 'end_map': 1950, 'ratp_id': 2172}\n",
      "{'stop_id': 191520, 'stop_name': 'Madeleine', 'stop_line': '8', 'stop_info': None, 'open_date': '1913-07-13', 'close_date': nan, 'start_map': 1915, 'end_map': 1950, 'ratp_id': 1869}\n",
      "{'stop_id': 191521, 'stop_name': 'Opéra', 'stop_line': '8', 'stop_info': None, 'open_date': '1904-10-19', 'close_date': nan, 'start_map': 1915, 'end_map': 1950, 'ratp_id': 2314}\n",
      "{'stop_id': 191522, 'stop_name': \"Chaussée d'Antin\", 'stop_line': '8', 'stop_info': None, 'open_date': '1923/05/27', 'close_date': nan, 'start_map': 1915, 'end_map': 1950, 'ratp_id': 2226}\n",
      "{'stop_id': 191523, 'stop_name': 'Porte de la Villette', 'stop_line': '7 bis', 'stop_info': None, 'open_date': '1910-11-05', 'close_date': nan, 'start_map': 1915, 'end_map': 1950, 'ratp_id': 2422}\n",
      "{'stop_id': 191524, 'stop_name': 'Pont de Flandres', 'stop_line': '7 bis', 'stop_info': None, 'open_date': '1910-11-05', 'close_date': '1946/02/10', 'start_map': 1915, 'end_map': 1950, 'ratp_id': 1985}\n",
      "{'stop_id': 191525, 'stop_name': 'Crimée', 'stop_line': '7 bis', 'stop_info': None, 'open_date': '1910-11-05', 'close_date': nan, 'start_map': 1915, 'end_map': 1950, 'ratp_id': 2080}\n",
      "{'stop_id': 191526, 'stop_name': 'Riquet', 'stop_line': '7 bis', 'stop_info': None, 'open_date': '1910-11-05', 'close_date': nan, 'start_map': 1915, 'end_map': 1950, 'ratp_id': 1703}\n",
      "{'stop_id': 191527, 'stop_name': 'Porte de la Villette', 'stop_line': '7 bis', 'stop_info': None, 'open_date': '1910-11-05', 'close_date': nan, 'start_map': 1915, 'end_map': 1950, 'ratp_id': 2422}\n",
      "{'stop_id': 191528, 'stop_name': 'Danube', 'stop_line': '7', 'stop_info': None, 'open_date': '1911-01-18', 'close_date': nan, 'start_map': 1915, 'end_map': 1950, 'ratp_id': 1635}\n",
      "{'stop_id': 191529, 'stop_name': 'Pré-Saint-Gervais', 'stop_line': '7', 'stop_info': None, 'open_date': '1911-01-18', 'close_date': nan, 'start_map': 1915, 'end_map': 1950, 'ratp_id': 1756}\n",
      "{'stop_id': 191530, 'stop_name': 'Place des Fêtes', 'stop_line': '7', 'stop_info': None, 'open_date': '1935/04/28', 'close_date': nan, 'start_map': 1915, 'end_map': 1950, 'ratp_id': 2408}\n",
      "{'stop_id': 191531, 'stop_name': 'Botzaris', 'stop_line': '7', 'stop_info': None, 'open_date': '1911-01-18', 'close_date': nan, 'start_map': 1915, 'end_map': 1950, 'ratp_id': 2002}\n",
      "{'stop_id': 191532, 'stop_name': 'Buttes-Chaumont', 'stop_line': '7', 'stop_info': None, 'open_date': '1911-01-18', 'close_date': nan, 'start_map': 1915, 'end_map': 1950, 'ratp_id': 2013}\n",
      "{'stop_id': 191533, 'stop_name': 'Bolivar', 'stop_line': '7', 'stop_info': None, 'open_date': '1911-01-18', 'close_date': nan, 'start_map': 1915, 'end_map': 1950, 'ratp_id': 2075}\n",
      "{'stop_id': 191534, 'stop_name': 'Louis Blanc', 'stop_line': '7 bis', 'stop_info': None, 'open_date': '1911-01-18', 'close_date': nan, 'start_map': 1915, 'end_map': 1950, 'ratp_id': 1861}\n",
      "{'stop_id': 190866, 'stop_name': 'Jaurès', 'stop_line': '2', 'stop_info': 'stop_name changed from Allemagne to Jean-Jaures', 'open_date': '1914-08-01', 'close_date': nan, 'start_map': 1915, 'end_map': 1950, 'ratp_id': 1900}\n",
      "{'stop_id': 191536, 'stop_name': 'Château Landon', 'stop_line': '7', 'stop_info': None, 'open_date': '1910-11-05', 'close_date': nan, 'start_map': 1915, 'end_map': 1950, 'ratp_id': 2546}\n",
      "{'stop_id': 191537, 'stop_name': \"Gare de l'Est\", 'stop_line': '7', 'stop_info': None, 'open_date': '1907-11-15', 'close_date': nan, 'start_map': 1915, 'end_map': 1950, 'ratp_id': 1954}\n",
      "{'stop_id': 191538, 'stop_name': 'Poissonnière', 'stop_line': '7', 'stop_info': None, 'open_date': '1910-11-05', 'close_date': nan, 'start_map': 1915, 'end_map': 1950, 'ratp_id': 2373}\n",
      "{'stop_id': 191539, 'stop_name': 'Cadet', 'stop_line': '7', 'stop_info': None, 'open_date': '1910-11-05', 'close_date': nan, 'start_map': 1915, 'end_map': 1950, 'ratp_id': 2015}\n",
      "{'stop_id': 191540, 'stop_name': 'Le Peletier', 'stop_line': '7', 'stop_info': None, 'open_date': '1910-11-05', 'close_date': nan, 'start_map': 1915, 'end_map': 1950, 'ratp_id': 1849}\n",
      "{'stop_id': 191541, 'stop_name': 'Saint-Placide', 'stop_line': '4', 'stop_info': None, 'open_date': '1913-11-15', 'close_date': nan, 'start_map': 1915, 'end_map': 1950, 'ratp_id': 1731}\n",
      "{'stop_id': 191542, 'stop_name': 'Opéra', 'stop_line': '7', 'stop_info': None, 'open_date': '1904-10-19', 'close_date': nan, 'start_map': 1915, 'end_map': 1950, 'ratp_id': 2314}\n",
      "{'stop_id': 191543, 'stop_name': 'Jaurès', 'stop_line': '7', 'stop_info': None, 'open_date': '1914-08-01', 'close_date': nan, 'start_map': 1915, 'end_map': 1950, 'ratp_id': 1900}\n",
      "{'stop_id': 1908112, 'stop_name': 'Mouton-Duvernet', 'stop_line': '4', 'stop_info': 'stop_name changed from Rue Mouton-Duvernet to Mouton-Duvernet', 'open_date': '1909-10-30', 'close_date': nan, 'start_map': 1915, 'end_map': 1950, 'ratp_id': 2367}\n",
      "{'stop_id': 1908113, 'stop_name': 'Alésia', 'stop_line': '4', 'stop_info': \"stop_name changed from Rue d'Alesia to Alesia\", 'open_date': '1909-10-30', 'close_date': nan, 'start_map': 1915, 'end_map': 1950, 'ratp_id': 2159}\n",
      "{'stop_id': 190834, 'stop_name': 'Sèvres-Lecourbe', 'stop_line': '5', 'stop_info': 'stop_name changed from Sevres to Sevres-Lecourbe', 'open_date': '1906-04-24', 'close_date': nan, 'start_map': 1915, 'end_map': 1950, 'ratp_id': 1665}\n",
      "{'stop_id': 190861, 'stop_name': 'Barbès-Rochechouart', 'stop_line': '2', 'stop_info': 'stop_name changed from Barbes to Barbes-Rochechouart', 'open_date': '1903-01-31', 'close_date': nan, 'start_map': 1915, 'end_map': 1915, 'ratp_id': 2061}\n",
      "{'stop_id': 190830, 'stop_name': 'Barbès-Rochechouart', 'stop_line': '4', 'stop_info': 'stop_name changed from Barbes to Barbes-Rochechouart', 'open_date': '1903-01-31', 'close_date': nan, 'start_map': 1915, 'end_map': 1950, 'ratp_id': 2061}\n",
      "{'stop_id': 191549, 'stop_name': 'Louis Blanc', 'stop_line': '7', 'stop_info': None, 'open_date': '1911-01-18', 'close_date': nan, 'start_map': 1915, 'end_map': 1950, 'ratp_id': 1861}\n",
      "{'stop_id': 190856, 'stop_name': 'Rennes', 'stop_line': '4', 'stop_info': 'stop_name changed from Vaugirard to Rennes', 'open_date': '1910/11/05', 'close_date': nan, 'start_map': 1915, 'end_map': 1950, 'ratp_id': 2526}\n",
      "{'stop_id': 19501, 'stop_name': 'Louise Michel', 'stop_line': '3', 'stop_info': None, 'open_date': '1937/09/24', 'close_date': nan, 'start_map': 1950, 'end_map': 1950, 'ratp_id': 1862}\n",
      "{'stop_id': 19502, 'stop_name': 'Anatole-France', 'stop_line': '3', 'stop_info': None, 'open_date': '1937/09/24', 'close_date': nan, 'start_map': 1950, 'end_map': 1950, 'ratp_id': 2163}\n",
      "{'stop_id': 19503, 'stop_name': 'Pont de Levallois-Bécon', 'stop_line': '3', 'stop_info': None, 'open_date': '1937/09/24', 'close_date': nan, 'start_map': 1950, 'end_map': 1950, 'ratp_id': 2341}\n",
      "{'stop_id': 19504, 'stop_name': 'Marcel Sembat', 'stop_line': '9', 'stop_info': None, 'open_date': '1934/02/03', 'close_date': nan, 'start_map': 1950, 'end_map': 1950, 'ratp_id': 1884}\n",
      "{'stop_id': 19505, 'stop_name': 'Porte de Saint-Cloud', 'stop_line': '9', 'stop_info': None, 'open_date': '1923/09/29', 'close_date': nan, 'start_map': 1950, 'end_map': 1950, 'ratp_id': 2425}\n",
      "{'stop_id': 19506, 'stop_name': 'Exelmans', 'stop_line': '9', 'stop_info': None, 'open_date': '1922/11/08', 'close_date': nan, 'start_map': 1950, 'end_map': 1950, 'ratp_id': 2261}\n",
      "{'stop_id': 19507, 'stop_name': 'Michel-Ange-Molitor', 'stop_line': '9', 'stop_info': None, 'open_date': '1913-09-30', 'close_date': nan, 'start_map': 1950, 'end_map': 1950, 'ratp_id': 1816}\n",
      "{'stop_id': 19508, 'stop_name': 'Michel-Ange-Auteuil', 'stop_line': '9', 'stop_info': None, 'open_date': '1913-09-30', 'close_date': nan, 'start_map': 1950, 'end_map': 1950, 'ratp_id': 2354}\n",
      "{'stop_id': 19509, 'stop_name': 'Jasmin', 'stop_line': '9', 'stop_info': None, 'open_date': '1922/11/08', 'close_date': nan, 'start_map': 1950, 'end_map': 1950, 'ratp_id': 2295}\n",
      "{'stop_id': 195010, 'stop_name': 'Ranelagh', 'stop_line': '9', 'stop_info': None, 'open_date': '1922/11/08', 'close_date': nan, 'start_map': 1950, 'end_map': 1950, 'ratp_id': 1762}\n",
      "{'stop_id': 195011, 'stop_name': 'La Muette', 'stop_line': '9', 'stop_info': None, 'open_date': '1922/11/08', 'close_date': nan, 'start_map': 1950, 'end_map': 1950, 'ratp_id': 2242}\n",
      "{'stop_id': 195012, 'stop_name': \"Chaussée d'Antin\", 'stop_line': '9', 'stop_info': None, 'open_date': '1923/05/27', 'close_date': nan, 'start_map': 1950, 'end_map': 1950, 'ratp_id': 2226}\n",
      "{'stop_id': 195013, 'stop_name': 'Iéna', 'stop_line': '9', 'stop_info': None, 'open_date': '1923/05/27', 'close_date': nan, 'start_map': 1950, 'end_map': 1950, 'ratp_id': 1895}\n",
      "{'stop_id': 195014, 'stop_name': 'Alma-Marceau', 'stop_line': '9', 'stop_info': None, 'open_date': '1923/05/27', 'close_date': nan, 'start_map': 1950, 'end_map': 1950, 'ratp_id': 2162}\n",
      "{'stop_id': 195015, 'stop_name': 'Franklin-Roosevelt', 'stop_line': '9', 'stop_info': None, 'open_date': '1946-10-30', 'close_date': nan, 'start_map': 1950, 'end_map': 1950, 'ratp_id': 2200}\n",
      "{'stop_id': 195016, 'stop_name': 'Saint-Philippe du Roule', 'stop_line': '9', 'stop_info': None, 'open_date': '1923/05/27', 'close_date': nan, 'start_map': 1950, 'end_map': 1950, 'ratp_id': 1730}\n",
      "{'stop_id': 195017, 'stop_name': 'Miromesnil', 'stop_line': '9', 'stop_info': None, 'open_date': '1923/05/27', 'close_date': nan, 'start_map': 1950, 'end_map': 1950, 'ratp_id': 1820}\n",
      "{'stop_id': 195018, 'stop_name': 'Saint-Augustin', 'stop_line': '9', 'stop_info': None, 'open_date': '1923/05/27', 'close_date': nan, 'start_map': 1950, 'end_map': 1950, 'ratp_id': 2460}\n",
      "{'stop_id': 195019, 'stop_name': 'Havre-Caumartin', 'stop_line': '9', 'stop_info': None, 'open_date': '1904-10-19', 'close_date': nan, 'start_map': 1950, 'end_map': 1950, 'ratp_id': 2286}\n",
      "{'stop_id': 195020, 'stop_name': \"Chaussée d'Antin\", 'stop_line': '9', 'stop_info': None, 'open_date': '1923/05/27', 'close_date': nan, 'start_map': 1950, 'end_map': 1950, 'ratp_id': 2226}\n",
      "{'stop_id': 195021, 'stop_name': 'Richelieu-Drouot', 'stop_line': '9', 'stop_info': None, 'open_date': '1928/06/30', 'close_date': nan, 'start_map': 1950, 'end_map': 1950, 'ratp_id': 1702}\n",
      "{'stop_id': 195022, 'stop_name': 'Montmartre', 'stop_line': '9', 'stop_info': None, 'open_date': '1931-05-05', 'close_date': '1998-09-01', 'start_map': 1950, 'end_map': 1950, 'ratp_id': 1712}\n",
      "{'stop_id': 195023, 'stop_name': 'Bonne Nouvelle', 'stop_line': '9', 'stop_info': None, 'open_date': '1931/05/05', 'close_date': nan, 'start_map': 1950, 'end_map': 1950, 'ratp_id': 2190}\n",
      "{'stop_id': 195024, 'stop_name': 'Strasbourg-Saint-Denis', 'stop_line': '9', 'stop_info': None, 'open_date': '1908-04-21', 'close_date': nan, 'start_map': 1950, 'end_map': 1950, 'ratp_id': 1678}\n",
      "{'stop_id': 195025, 'stop_name': 'République', 'stop_line': '9', 'stop_info': None, 'open_date': '1906-12-17', 'close_date': nan, 'start_map': 1950, 'end_map': 1950, 'ratp_id': 2527}\n",
      "{'stop_id': 195026, 'stop_name': 'Oberkampf', 'stop_line': '9', 'stop_info': None, 'open_date': '1906-12-17', 'close_date': nan, 'start_map': 1950, 'end_map': 1950, 'ratp_id': 2310}\n",
      "{'stop_id': 195027, 'stop_name': 'Saint-Ambroise', 'stop_line': '9', 'stop_info': None, 'open_date': '1933/12/10', 'close_date': nan, 'start_map': 1950, 'end_map': 1950, 'ratp_id': 1714}\n",
      "{'stop_id': 195028, 'stop_name': 'Voltaire', 'stop_line': '9', 'stop_info': None, 'open_date': '1933/12/10', 'close_date': nan, 'start_map': 1950, 'end_map': 1950, 'ratp_id': 2513}\n",
      "{'stop_id': 195029, 'stop_name': 'Charonne', 'stop_line': '9', 'stop_info': None, 'open_date': '1933/12/10', 'close_date': nan, 'start_map': 1950, 'end_map': 1950, 'ratp_id': 2151}\n",
      "{'stop_id': 195030, 'stop_name': 'Rue des Boulets', 'stop_line': '9', 'stop_info': None, 'open_date': '1933/12/10', 'close_date': nan, 'start_map': 1950, 'end_map': 1950, 'ratp_id': 2454}\n",
      "{'stop_id': 195031, 'stop_name': 'Nation', 'stop_line': '9', 'stop_info': None, 'open_date': '1900-07-19', 'close_date': nan, 'start_map': 1950, 'end_map': 1950, 'ratp_id': 2371}\n",
      "{'stop_id': 195032, 'stop_name': 'Buzenval', 'stop_line': '9', 'stop_info': None, 'open_date': '1933/12/10', 'close_date': nan, 'start_map': 1950, 'end_map': 1950, 'ratp_id': 2133}\n",
      "{'stop_id': 195033, 'stop_name': 'Maraîchers', 'stop_line': '9', 'stop_info': None, 'open_date': '1933/12/10', 'close_date': nan, 'start_map': 1950, 'end_map': 1950, 'ratp_id': 1882}\n",
      "{'stop_id': 195034, 'stop_name': 'Porte de Montreuil', 'stop_line': '9', 'stop_info': None, 'open_date': '1933/12/10', 'close_date': nan, 'start_map': 1950, 'end_map': 1950, 'ratp_id': 1745}\n",
      "{'stop_id': 195035, 'stop_name': 'Balard', 'stop_line': '8', 'stop_info': None, 'open_date': '1937/07/27', 'close_date': nan, 'start_map': 1950, 'end_map': 1950, 'ratp_id': 3343335}\n",
      "{'stop_id': 195036, 'stop_name': 'Lourmel', 'stop_line': '8', 'stop_info': None, 'open_date': '1937/07/27', 'close_date': nan, 'start_map': 1950, 'end_map': 1950, 'ratp_id': 3343336}\n",
      "{'stop_id': 195037, 'stop_name': 'Boucicaut', 'stop_line': '8', 'stop_info': None, 'open_date': '1937/07/27', 'close_date': nan, 'start_map': 1950, 'end_map': 1950, 'ratp_id': 3343339}\n",
      "{'stop_id': 195038, 'stop_name': 'Félix Faure', 'stop_line': '8', 'stop_info': None, 'open_date': '1937/07/27', 'close_date': nan, 'start_map': 1950, 'end_map': 1950, 'ratp_id': 3343746}\n",
      "{'stop_id': 195039, 'stop_name': 'Commerce', 'stop_line': '8', 'stop_info': None, 'open_date': '1937-07-27', 'close_date': nan, 'start_map': 1950, 'end_map': 1950, 'ratp_id': 3343753}\n",
      "{'stop_id': 195040, 'stop_name': 'La Motte-Picquet-Grenelle', 'stop_line': '8', 'stop_info': None, 'open_date': '1906-04-24', 'close_date': nan, 'start_map': 1950, 'end_map': 1950, 'ratp_id': 2241}\n",
      "{'stop_id': 195041, 'stop_name': 'Richelieu-Drouot', 'stop_line': '8', 'stop_info': None, 'open_date': '1928/06/30', 'close_date': nan, 'start_map': 1950, 'end_map': 1950, 'ratp_id': 1702}\n",
      "{'stop_id': 195042, 'stop_name': 'Richelieu-Drouot', 'stop_line': '8', 'stop_info': None, 'open_date': '1928/06/30', 'close_date': nan, 'start_map': 1950, 'end_map': 1950, 'ratp_id': 1702}\n",
      "{'stop_id': 195043, 'stop_name': 'Bonne Nouvelle', 'stop_line': '8', 'stop_info': None, 'open_date': '1931/05/05', 'close_date': nan, 'start_map': 1950, 'end_map': 1950, 'ratp_id': 2190}\n",
      "{'stop_id': 195044, 'stop_name': 'Strasbourg-Saint-Denis', 'stop_line': '8', 'stop_info': None, 'open_date': '1908-04-21', 'close_date': nan, 'start_map': 1950, 'end_map': 1950, 'ratp_id': 1678}\n",
      "{'stop_id': 195045, 'stop_name': 'Saint-Martin', 'stop_line': '8', 'stop_info': None, 'open_date': '1931/05/05', 'close_date': '1939-09-02', 'start_map': 1950, 'end_map': 1950, 'ratp_id': 1783}\n",
      "{'stop_id': 195046, 'stop_name': 'Saint-Martin', 'stop_line': '9', 'stop_info': None, 'open_date': '1931/05/05', 'close_date': '1939-09-02', 'start_map': 1950, 'end_map': 1950, 'ratp_id': 1783}\n",
      "{'stop_id': 195047, 'stop_name': 'République', 'stop_line': '8', 'stop_info': None, 'open_date': '1906-12-17', 'close_date': nan, 'start_map': 1950, 'end_map': 1950, 'ratp_id': 2527}\n",
      "{'stop_id': 195048, 'stop_name': 'Filles du Calvaire', 'stop_line': '8', 'stop_info': None, 'open_date': '1931/05/05', 'close_date': nan, 'start_map': 1950, 'end_map': 1950, 'ratp_id': 3343779}\n",
      "{'stop_id': 195049, 'stop_name': 'Saint-Sébastien-Froissart', 'stop_line': '8', 'stop_info': None, 'open_date': '1931/05/05', 'close_date': nan, 'start_map': 1950, 'end_map': 1950, 'ratp_id': 3343781}\n",
      "{'stop_id': 195050, 'stop_name': 'Chemin Vert', 'stop_line': '8', 'stop_info': None, 'open_date': '1931/05/05', 'close_date': nan, 'start_map': 1950, 'end_map': 1950, 'ratp_id': 3343783}\n",
      "{'stop_id': 195051, 'stop_name': 'Bastille', 'stop_line': '8', 'stop_info': None, 'open_date': '1900-07-19', 'close_date': nan, 'start_map': 1950, 'end_map': 1950, 'ratp_id': 2062}\n",
      "{'stop_id': 195052, 'stop_name': 'Ledru-Rollin', 'stop_line': '8', 'stop_info': None, 'open_date': '1931/05/05', 'close_date': nan, 'start_map': 1950, 'end_map': 1950, 'ratp_id': 3343788}\n",
      "{'stop_id': 195053, 'stop_name': 'Faidherbe-Chaligny', 'stop_line': '8', 'stop_info': None, 'open_date': '1931/05/05', 'close_date': nan, 'start_map': 1950, 'end_map': 1950, 'ratp_id': 3343789}\n",
      "{'stop_id': 195054, 'stop_name': 'Reuilly-Diderot', 'stop_line': '8', 'stop_info': None, 'open_date': '1900-07-19', 'close_date': nan, 'start_map': 1950, 'end_map': 1950, 'ratp_id': 1698}\n",
      "{'stop_id': 195055, 'stop_name': 'Montgallet', 'stop_line': '8', 'stop_info': None, 'open_date': '1931/05/05', 'close_date': nan, 'start_map': 1950, 'end_map': 1950, 'ratp_id': 3343793}\n",
      "{'stop_id': 195056, 'stop_name': 'Daumesnil', 'stop_line': '8', 'stop_info': None, 'open_date': '1909-03-01', 'close_date': nan, 'start_map': 1950, 'end_map': 1950, 'ratp_id': 3343795}\n",
      "{'stop_id': 195057, 'stop_name': 'Michel Bizot', 'stop_line': '8', 'stop_info': None, 'open_date': '1931/05/05', 'close_date': nan, 'start_map': 1950, 'end_map': 1950, 'ratp_id': 3343798}\n",
      "{'stop_id': 195058, 'stop_name': 'Porte Dorée', 'stop_line': '8', 'stop_info': None, 'open_date': '1931/05/05', 'close_date': nan, 'start_map': 1950, 'end_map': 1950, 'ratp_id': 3343799}\n",
      "{'stop_id': 195059, 'stop_name': 'Porte de Charenton', 'stop_line': '8', 'stop_info': None, 'open_date': '1931/05/05', 'close_date': nan, 'start_map': 1950, 'end_map': 1950, 'ratp_id': 3343801}\n",
      "{'stop_id': 195060, 'stop_name': 'Liberté', 'stop_line': '8', 'stop_info': None, 'open_date': '1942/10/05', 'close_date': nan, 'start_map': 1950, 'end_map': 1950, 'ratp_id': 3343804}\n",
      "{'stop_id': 195061, 'stop_name': 'Porte de la Chapelle', 'stop_line': '12', 'stop_info': None, 'open_date': '1916/08/23', 'close_date': nan, 'start_map': 1950, 'end_map': 1950, 'ratp_id': 2421}\n",
      "{'stop_id': 195062, 'stop_name': 'Marx-Dormoy', 'stop_line': '12', 'stop_info': None, 'open_date': '1916/08/23', 'close_date': nan, 'start_map': 1950, 'end_map': 1950, 'ratp_id': 2282}\n",
      "{'stop_id': 195063, 'stop_name': 'Marcadet-Poissonniers', 'stop_line': '12', 'stop_info': None, 'open_date': '1908-04-21', 'close_date': nan, 'start_map': 1950, 'end_map': 1950, 'ratp_id': 2535}\n",
      "{'stop_id': 195064, 'stop_name': 'Jules Joffrin', 'stop_line': '12', 'stop_info': None, 'open_date': '1912/10/30', 'close_date': nan, 'start_map': 1950, 'end_map': 1950, 'ratp_id': 2267}\n",
      "{'stop_id': 195065, 'stop_name': 'Lamarck-Caulaincourt', 'stop_line': '12', 'stop_info': None, 'open_date': '1912/10/30', 'close_date': nan, 'start_map': 1950, 'end_map': 1950, 'ratp_id': 2245}\n",
      "{'stop_id': 195066, 'stop_name': 'Abbesses', 'stop_line': '12', 'stop_info': None, 'open_date': '1912/10/30', 'close_date': nan, 'start_map': 1950, 'end_map': 1950, 'ratp_id': 2156}\n",
      "{'stop_id': 195067, 'stop_name': 'Pigalle', 'stop_line': '12', 'stop_info': None, 'open_date': '1902-10-07', 'close_date': nan, 'start_map': 1950, 'end_map': 1950, 'ratp_id': 1792}\n",
      "{'stop_id': 195068, 'stop_name': 'Saint-Georges', 'stop_line': '12', 'stop_info': None, 'open_date': '1911/04/08', 'close_date': nan, 'start_map': 1950, 'end_map': 1950, 'ratp_id': 1720}\n",
      "{'stop_id': 195069, 'stop_name': 'Notre-Dame de Lorette', 'stop_line': '12', 'stop_info': None, 'open_date': '1910/11/05', 'close_date': nan, 'start_map': 1950, 'end_map': 1950, 'ratp_id': 2308}\n",
      "{'stop_id': 195070, 'stop_name': 'Trinité', 'stop_line': '12', 'stop_info': None, 'open_date': '1910/11/05', 'close_date': nan, 'start_map': 1950, 'end_map': 1950, 'ratp_id': 2496}\n",
      "{'stop_id': 195071, 'stop_name': 'Saint-Lazare', 'stop_line': '12', 'stop_info': None, 'open_date': '1904-10-19', 'close_date': nan, 'start_map': 1950, 'end_map': 1950, 'ratp_id': 2468}\n",
      "{'stop_id': 195072, 'stop_name': 'Concorde', 'stop_line': '12', 'stop_info': None, 'open_date': '1900-07-19', 'close_date': nan, 'start_map': 1950, 'end_map': 1950, 'ratp_id': 2172}\n",
      "{'stop_id': 195073, 'stop_name': 'Chemin des Députes', 'stop_line': '12', 'stop_info': None, 'open_date': '1910-11-05', 'close_date': '1989-06-30', 'start_map': 1950, 'end_map': 1950, 'ratp_id': 2101}\n",
      "{'stop_id': 195074, 'stop_name': 'Solférino', 'stop_line': '12', 'stop_info': None, 'open_date': '1910/11/05', 'close_date': nan, 'start_map': 1950, 'end_map': 1950, 'ratp_id': 2479}\n",
      "{'stop_id': 195075, 'stop_name': 'Rue du Bac', 'stop_line': '12', 'stop_info': None, 'open_date': '1910/11/05', 'close_date': nan, 'start_map': 1950, 'end_map': 1950, 'ratp_id': 1710}\n",
      "{'stop_id': 195076, 'stop_name': 'Sèvres-Babylone', 'stop_line': '12', 'stop_info': None, 'open_date': '1910/11/05', 'close_date': nan, 'start_map': 1950, 'end_map': 1950, 'ratp_id': 1666}\n",
      "{'stop_id': 195077, 'stop_name': 'Rennes', 'stop_line': '12', 'stop_info': None, 'open_date': '1910/11/05', 'close_date': nan, 'start_map': 1950, 'end_map': 1950, 'ratp_id': 2526}\n",
      "{'stop_id': 195078, 'stop_name': 'Notre-Dame des Champs', 'stop_line': '12', 'stop_info': None, 'open_date': '1910/11/05', 'close_date': nan, 'start_map': 1950, 'end_map': 1950, 'ratp_id': 1842}\n",
      "{'stop_id': 195079, 'stop_name': 'Montparnasse', 'stop_line': '12', 'stop_info': None, 'open_date': '1910-01-09', 'close_date': nan, 'start_map': 1950, 'end_map': 1950, 'ratp_id': 1824}\n",
      "{'stop_id': 195080, 'stop_name': 'Falguière', 'stop_line': '12', 'stop_info': None, 'open_date': '1910/11/05', 'close_date': nan, 'start_map': 1950, 'end_map': 1950, 'ratp_id': 2263}\n",
      "{'stop_id': 195081, 'stop_name': 'Pasteur', 'stop_line': '12', 'stop_info': None, 'open_date': '1906-04-24', 'close_date': nan, 'start_map': 1950, 'end_map': 1950, 'ratp_id': 2392}\n",
      "{'stop_id': 195082, 'stop_name': 'Volontaires', 'stop_line': '12', 'stop_info': None, 'open_date': '1910/11/05', 'close_date': nan, 'start_map': 1950, 'end_map': 1950, 'ratp_id': 1632}\n",
      "{'stop_id': 195083, 'stop_name': 'Vaugirard', 'stop_line': '12', 'stop_info': None, 'open_date': '1910-01-09', 'close_date': '1913-11-15', 'start_map': 1950, 'end_map': 1950, 'ratp_id': 1731}\n",
      "{'stop_id': 195084, 'stop_name': 'Convention', 'stop_line': '12', 'stop_info': None, 'open_date': '1910/11/05', 'close_date': nan, 'start_map': 1950, 'end_map': 1950, 'ratp_id': 2174}\n",
      "{'stop_id': 195085, 'stop_name': 'Porte de Versailles', 'stop_line': '12', 'stop_info': None, 'open_date': '1910/11/05', 'close_date': nan, 'start_map': 1950, 'end_map': 1950, 'ratp_id': 1750}\n",
      "{'stop_id': 195086, 'stop_name': 'Ségur', 'stop_line': '10', 'stop_info': None, 'open_date': '1937/07/27', 'close_date': nan, 'start_map': 1950, 'end_map': 1950, 'ratp_id': 2541}\n",
      "{'stop_id': 195087, 'stop_name': 'Duroc', 'stop_line': '10', 'stop_info': None, 'open_date': '1923/12/30', 'close_date': nan, 'start_map': 1950, 'end_map': 1950, 'ratp_id': 2252}\n",
      "{'stop_id': 195088, 'stop_name': 'Vaneau', 'stop_line': '10', 'stop_info': None, 'open_date': '1923/12/30', 'close_date': nan, 'start_map': 1950, 'end_map': 1950, 'ratp_id': 2500}\n",
      "{'stop_id': 195089, 'stop_name': 'Sèvres-Babylone', 'stop_line': '10', 'stop_info': None, 'open_date': '1910/11/05', 'close_date': nan, 'start_map': 1950, 'end_map': 1950, 'ratp_id': 1666}\n",
      "{'stop_id': 195090, 'stop_name': 'Croix-Rouge', 'stop_line': '10', 'stop_info': None, 'open_date': '1923/12/30', 'close_date': '1939-09-02', 'start_map': 1950, 'end_map': 1950, 'ratp_id': 8459}\n",
      "{'stop_id': 195091, 'stop_name': 'Mabillon', 'stop_line': '10', 'stop_info': None, 'open_date': '1925/03/10', 'close_date': nan, 'start_map': 1950, 'end_map': 1950, 'ratp_id': 2334}\n",
      "{'stop_id': 195092, 'stop_name': 'Odéon', 'stop_line': '10', 'stop_info': None, 'open_date': '1910-01-09', 'close_date': nan, 'start_map': 1950, 'end_map': 1950, 'ratp_id': 2533}\n",
      "{'stop_id': 195093, 'stop_name': 'Cluny', 'stop_line': '10', 'stop_info': None, 'open_date': '1930/02/15', 'close_date': nan, 'start_map': 1950, 'end_map': 1950, 'ratp_id': 1977}\n",
      "{'stop_id': 195094, 'stop_name': 'Maubert-Mutualité', 'stop_line': '10', 'stop_info': None, 'open_date': '1930/02/15', 'close_date': nan, 'start_map': 1950, 'end_map': 1950, 'ratp_id': 1811}\n",
      "{'stop_id': 195095, 'stop_name': 'Cardinal-Lemoine', 'stop_line': '10', 'stop_info': None, 'open_date': '1931/04/26', 'close_date': nan, 'start_map': 1950, 'end_map': 1950, 'ratp_id': 2018}\n",
      "{'stop_id': 195096, 'stop_name': 'Jussieu', 'stop_line': '10', 'stop_info': None, 'open_date': '1931/04/26', 'close_date': nan, 'start_map': 1950, 'end_map': 1950, 'ratp_id': 1908}\n",
      "{'stop_id': 195097, 'stop_name': \"Gare d'Orléans - Austerliz\", 'stop_line': '10', 'stop_info': None, 'open_date': '1906-06-02', 'close_date': '1930-10-15', 'start_map': 1950, 'end_map': 1950, 'ratp_id': 1951}\n",
      "{'stop_id': 195098, 'stop_name': 'Pierre Curie', 'stop_line': '7', 'stop_info': None, 'open_date': '1946/05/01', 'close_date': nan, 'start_map': 1950, 'end_map': 1950, 'ratp_id': 2400}\n",
      "{'stop_id': 195099, 'stop_name': \"Porte d'Ivry\", 'stop_line': '7', 'stop_info': None, 'open_date': '1931/04/26', 'close_date': nan, 'start_map': 1950, 'end_map': 1950, 'ratp_id': 2412}\n",
      "{'stop_id': 1950100, 'stop_name': 'Porte de Choisy', 'stop_line': '7', 'stop_info': None, 'open_date': '1930/03/07', 'close_date': nan, 'start_map': 1950, 'end_map': 1950, 'ratp_id': 1740}\n",
      "{'stop_id': 1950101, 'stop_name': \"Porte d'Italie\", 'stop_line': '7', 'stop_info': None, 'open_date': '1930/03/07', 'close_date': nan, 'start_map': 1950, 'end_map': 1950, 'ratp_id': 1808}\n",
      "{'stop_id': 1950102, 'stop_name': 'Maison Blanche', 'stop_line': '7', 'stop_info': None, 'open_date': '1930/03/07', 'close_date': nan, 'start_map': 1950, 'end_map': 1950, 'ratp_id': 2272}\n",
      "{'stop_id': 1950103, 'stop_name': 'Tolbiac', 'stop_line': '7', 'stop_info': None, 'open_date': '1930/03/07', 'close_date': nan, 'start_map': 1950, 'end_map': 1950, 'ratp_id': 1685}\n",
      "{'stop_id': 1950104, 'stop_name': \"Place d'Italie\", 'stop_line': '7', 'stop_info': None, 'open_date': '1906-04-24', 'close_date': nan, 'start_map': 1950, 'end_map': 1950, 'ratp_id': 1794}\n",
      "{'stop_id': 1950105, 'stop_name': 'Les Gobelins', 'stop_line': '7', 'stop_info': None, 'open_date': '1930/02/15', 'close_date': nan, 'start_map': 1950, 'end_map': 1950, 'ratp_id': 1854}\n",
      "{'stop_id': 1950106, 'stop_name': 'Censier-Daubenton', 'stop_line': '7', 'stop_info': None, 'open_date': '1930/02/15', 'close_date': nan, 'start_map': 1950, 'end_map': 1950, 'ratp_id': 2020}\n",
      "{'stop_id': 1950107, 'stop_name': 'Place Monge', 'stop_line': '7', 'stop_info': None, 'open_date': '1930/02/15', 'close_date': nan, 'start_map': 1950, 'end_map': 1950, 'ratp_id': 2529}\n",
      "{'stop_id': 1950108, 'stop_name': 'Jussieu', 'stop_line': '7', 'stop_info': None, 'open_date': '1931/04/26', 'close_date': nan, 'start_map': 1950, 'end_map': 1950, 'ratp_id': 1908}\n",
      "{'stop_id': 1950109, 'stop_name': 'Sully-Morland', 'stop_line': '7', 'stop_info': None, 'open_date': '1930/06/03', 'close_date': nan, 'start_map': 1950, 'end_map': 1950, 'ratp_id': 1681}\n",
      "{'stop_id': 1950110, 'stop_name': 'Pont Marie (Cité des Arts)', 'stop_line': '7', 'stop_info': None, 'open_date': '1926/04/16', 'close_date': nan, 'start_map': 1950, 'end_map': 1950, 'ratp_id': 2344}\n",
      "{'stop_id': 1950111, 'stop_name': 'Châtelet', 'stop_line': '7', 'stop_info': None, 'open_date': '1900-07-19', 'close_date': nan, 'start_map': 1950, 'end_map': 1950, 'ratp_id': 1966}\n",
      "{'stop_id': 1950112, 'stop_name': 'Pont Neuf', 'stop_line': '7', 'stop_info': None, 'open_date': '1926/04/16', 'close_date': nan, 'start_map': 1950, 'end_map': 1950, 'ratp_id': 1806}\n",
      "{'stop_id': 1950113, 'stop_name': 'Palais-Royal', 'stop_line': '7', 'stop_info': None, 'open_date': '1900-07-19', 'close_date': nan, 'start_map': 1950, 'end_map': 1950, 'ratp_id': 2383}\n",
      "{'stop_id': 1950114, 'stop_name': 'Pyramides', 'stop_line': '7', 'stop_info': None, 'open_date': '1916/07/01', 'close_date': nan, 'start_map': 1950, 'end_map': 1950, 'ratp_id': 2435}\n",
      "{'stop_id': 1950116, 'stop_name': 'Porte de Saint-Ouen', 'stop_line': '13', 'stop_info': None, 'open_date': '1911/02/26', 'close_date': nan, 'start_map': 1950, 'end_map': 1950, 'ratp_id': 1748}\n",
      "{'stop_id': 1950117, 'stop_name': 'Guy-Môquet', 'stop_line': '13', 'stop_info': None, 'open_date': '1911/02/26', 'close_date': nan, 'start_map': 1950, 'end_map': 1950, 'ratp_id': 1888}\n",
      "{'stop_id': 1950118, 'stop_name': 'Porte de Clichy', 'stop_line': '13', 'stop_info': None, 'open_date': '1912/01/20', 'close_date': nan, 'start_map': 1950, 'end_map': 1950, 'ratp_id': 2419}\n",
      "{'stop_id': 1950119, 'stop_name': 'Brochant', 'stop_line': '13', 'stop_info': None, 'open_date': '1912/01/20', 'close_date': nan, 'start_map': 1950, 'end_map': 1950, 'ratp_id': 2009}\n",
      "{'stop_id': 1950120, 'stop_name': 'La Fourche', 'stop_line': '13', 'stop_info': None, 'open_date': '1911/02/26', 'close_date': nan, 'start_map': 1950, 'end_map': 1950, 'ratp_id': 2536}\n",
      "{'stop_id': 1950121, 'stop_name': 'Place de Clichy', 'stop_line': '13', 'stop_info': None, 'open_date': '1902-10-07', 'close_date': nan, 'start_map': 1950, 'end_map': 1950, 'ratp_id': 1796}\n",
      "{'stop_id': 1950122, 'stop_name': 'Liège', 'stop_line': '13', 'stop_info': None, 'open_date': '1911/02/26', 'close_date': nan, 'start_map': 1950, 'end_map': 1950, 'ratp_id': 2325}\n",
      "{'stop_id': 1950123, 'stop_name': 'Saint-Lazare', 'stop_line': '13', 'stop_info': None, 'open_date': '1904-10-19', 'close_date': nan, 'start_map': 1950, 'end_map': 1950, 'ratp_id': 2468}\n",
      "{'stop_id': 1950124, 'stop_name': 'Invalides', 'stop_line': '14', 'stop_info': None, 'open_date': '1913-07-13', 'close_date': nan, 'start_map': 1950, 'end_map': 1950, 'ratp_id': 3343761}\n",
      "{'stop_id': 1950125, 'stop_name': 'Varenne', 'stop_line': '14', 'stop_info': None, 'open_date': '1923/12/30', 'close_date': nan, 'start_map': 1950, 'end_map': 1950, 'ratp_id': 2518}\n",
      "{'stop_id': 1950126, 'stop_name': 'Saint-François-Xavier', 'stop_line': '14', 'stop_info': None, 'open_date': '1923/12/30', 'close_date': nan, 'start_map': 1950, 'end_map': 1950, 'ratp_id': 2464}\n",
      "{'stop_id': 1950127, 'stop_name': 'Duroc', 'stop_line': '14', 'stop_info': None, 'open_date': '1923/12/30', 'close_date': nan, 'start_map': 1950, 'end_map': 1950, 'ratp_id': 2252}\n",
      "{'stop_id': 1950128, 'stop_name': 'Montparnasse-Bienvenue', 'stop_line': '14', 'stop_info': None, 'open_date': '1910-01-09', 'close_date': nan, 'start_map': 1950, 'end_map': 1950, 'ratp_id': 1824}\n",
      "{'stop_id': 1950129, 'stop_name': 'Gaîté', 'stop_line': '14', 'stop_info': None, 'open_date': '1937/01/21', 'close_date': nan, 'start_map': 1950, 'end_map': 1950, 'ratp_id': 2203}\n",
      "{'stop_id': 1950130, 'stop_name': 'Pernety', 'stop_line': '14', 'stop_info': None, 'open_date': '1937/01/21', 'close_date': nan, 'start_map': 1950, 'end_map': 1950, 'ratp_id': 1787}\n",
      "{'stop_id': 1950131, 'stop_name': 'Plaisance', 'stop_line': '14', 'stop_info': None, 'open_date': '1937/01/21', 'close_date': nan, 'start_map': 1950, 'end_map': 1950, 'ratp_id': 2372}\n",
      "{'stop_id': 1950132, 'stop_name': 'Porte de Vanves', 'stop_line': '14', 'stop_info': None, 'open_date': '1937/01/21', 'close_date': nan, 'start_map': 1950, 'end_map': 1950, 'ratp_id': 2427}\n",
      "{'stop_id': 1950133, 'stop_name': 'Châtelet', 'stop_line': '11', 'stop_info': None, 'open_date': '1900-07-19', 'close_date': nan, 'start_map': 1950, 'end_map': 1950, 'ratp_id': 1966}\n",
      "{'stop_id': 1950134, 'stop_name': 'Hôtel de Ville', 'stop_line': '11', 'stop_info': None, 'open_date': '1900-07-19', 'close_date': nan, 'start_map': 1950, 'end_map': 1950, 'ratp_id': 1892}\n",
      "{'stop_id': 1950135, 'stop_name': 'Rambuteau', 'stop_line': '11', 'stop_info': None, 'open_date': '1935/04/28', 'close_date': nan, 'start_map': 1950, 'end_map': 1950, 'ratp_id': 2439}\n",
      "{'stop_id': 1950136, 'stop_name': 'Arts-et-Métiers', 'stop_line': '11', 'stop_info': None, 'open_date': '1904-10-19', 'close_date': nan, 'start_map': 1950, 'end_map': 1950, 'ratp_id': 2051}\n",
      "{'stop_id': 1950137, 'stop_name': 'République', 'stop_line': '11', 'stop_info': None, 'open_date': '1906-12-17', 'close_date': nan, 'start_map': 1950, 'end_map': 1950, 'ratp_id': 2527}\n",
      "{'stop_id': 1950138, 'stop_name': 'Goncourt', 'stop_line': '11', 'stop_info': None, 'open_date': '1935/04/28', 'close_date': nan, 'start_map': 1950, 'end_map': 1950, 'ratp_id': 1963}\n",
      "{'stop_id': 1950139, 'stop_name': 'Belleville', 'stop_line': '11', 'stop_info': None, 'open_date': '1903-01-31', 'close_date': nan, 'start_map': 1950, 'end_map': 1950, 'ratp_id': 2115}\n",
      "{'stop_id': 1950140, 'stop_name': 'Pyrénées', 'stop_line': '11', 'stop_info': None, 'open_date': '1935/04/28', 'close_date': nan, 'start_map': 1950, 'end_map': 1950, 'ratp_id': 2436}\n",
      "{'stop_id': 1950141, 'stop_name': 'Jourdain', 'stop_line': '11', 'stop_info': None, 'open_date': '1935/04/28', 'close_date': nan, 'start_map': 1950, 'end_map': 1950, 'ratp_id': 1905}\n",
      "{'stop_id': 1950142, 'stop_name': 'Place des Fêtes', 'stop_line': '11', 'stop_info': None, 'open_date': '1935/04/28', 'close_date': nan, 'start_map': 1950, 'end_map': 1950, 'ratp_id': 2408}\n",
      "{'stop_id': 1950143, 'stop_name': 'Télégraphe', 'stop_line': '11', 'stop_info': None, 'open_date': '1935/04/28', 'close_date': nan, 'start_map': 1950, 'end_map': 1950, 'ratp_id': 1682}\n",
      "{'stop_id': 1950144, 'stop_name': 'Porte des Lilas', 'stop_line': '11', 'stop_info': None, 'open_date': '1935/04/28', 'close_date': nan, 'start_map': 1950, 'end_map': 1950, 'ratp_id': 1752}\n",
      "{'stop_id': 1950145, 'stop_name': 'Mairie des Lilas', 'stop_line': '11', 'stop_info': None, 'open_date': '1937/02/17', 'close_date': nan, 'start_map': 1950, 'end_map': 1950, 'ratp_id': 2271}\n",
      "{'stop_id': 1950146, 'stop_name': 'Pelleport', 'stop_line': '3', 'stop_info': None, 'open_date': '1921/11/27', 'close_date': nan, 'start_map': 1950, 'end_map': 1950, 'ratp_id': 1783}\n",
      "{'stop_id': 1950147, 'stop_name': 'Saint-Fargeau', 'stop_line': '3', 'stop_info': None, 'open_date': '1921/11/27', 'close_date': nan, 'start_map': 1950, 'end_map': 1950, 'ratp_id': 1718}\n",
      "{'stop_id': 1950148, 'stop_name': 'Porte des Lilas', 'stop_line': '3', 'stop_info': None, 'open_date': '1935/04/28', 'close_date': nan, 'start_map': 1950, 'end_map': 1950, 'ratp_id': 1752}\n",
      "{'stop_id': 1950149, 'stop_name': 'Les Sablons', 'stop_line': '1', 'stop_info': None, 'open_date': '1937/04/29', 'close_date': nan, 'start_map': 1950, 'end_map': 1950, 'ratp_id': 2323}\n",
      "{'stop_id': 1950150, 'stop_name': 'Pont de Neuilly', 'stop_line': '1', 'stop_info': None, 'open_date': '1937/04/29', 'close_date': nan, 'start_map': 1950, 'end_map': 1950, 'ratp_id': 1803}\n",
      "{'stop_id': 1950151, 'stop_name': 'Jaurès', 'stop_line': '5', 'stop_info': None, 'open_date': '1914-08-01', 'close_date': nan, 'start_map': 1950, 'end_map': 1950, 'ratp_id': 1900}\n",
      "{'stop_id': 1950152, 'stop_name': 'Laumière', 'stop_line': '5', 'stop_info': None, 'open_date': '1942/10/12', 'close_date': nan, 'start_map': 1950, 'end_map': 1950, 'ratp_id': 1922}\n",
      "{'stop_id': 1950153, 'stop_name': 'Ourcq', 'stop_line': '5', 'stop_info': None, 'open_date': '1942/10/12', 'close_date': nan, 'start_map': 1950, 'end_map': 1950, 'ratp_id': 1772}\n",
      "{'stop_id': 1950154, 'stop_name': 'Porte de Pantin', 'stop_line': '5', 'stop_info': None, 'open_date': '1942/10/12', 'close_date': nan, 'start_map': 1950, 'end_map': 1950, 'ratp_id': 2424}\n",
      "{'stop_id': 1950155, 'stop_name': 'Hoche', 'stop_line': '5', 'stop_info': None, 'open_date': '1942/10/12', 'close_date': nan, 'start_map': 1950, 'end_map': 1950, 'ratp_id': 1891}\n",
      "{'stop_id': 1950156, 'stop_name': 'Eglise de Pantin', 'stop_line': '5', 'stop_info': None, 'open_date': '1942/10/12', 'close_date': nan, 'start_map': 1950, 'end_map': 1950, 'ratp_id': 2257}\n",
      "{'stop_id': 1950157, 'stop_name': 'Stalingrad', 'stop_line': '5', 'stop_info': None, 'open_date': '1946-02-10', 'close_date': nan, 'start_map': 1950, 'end_map': 1950, 'ratp_id': 2484}\n",
      "{'stop_id': 19085, 'stop_name': 'Argentine', 'stop_line': '1', 'stop_info': 'stop_name changed from Obligado to Argentine', 'open_date': '1948-05-25', 'close_date': nan, 'start_map': 1950, 'end_map': 1950, 'ratp_id': 2048}\n",
      "{'stop_id': 190864, 'stop_name': 'Marcadet-Poissonniers', 'stop_line': '4', 'stop_info': 'stop_name changed from Marcadet to Marcadet-Poissonniers', 'open_date': '1908-04-21', 'close_date': nan, 'start_map': 1950, 'end_map': 1950, 'ratp_id': 2535}\n",
      "{'stop_id': 190812, 'stop_name': 'George V', 'stop_line': '1', 'stop_info': 'stop_name changed from Alma to George V in between 1915 and 1950', 'open_date': '1920-05-27', 'close_date': nan, 'start_map': 1950, 'end_map': 1950, 'ratp_id': 1961}\n",
      "{'stop_id': 190815, 'stop_name': 'Franklin-Roosevelt', 'stop_line': '1', 'stop_info': 'Station Marbeu was merged with station Franklin D. Roosevelt in-between 1915 and', 'open_date': '1946-10-30', 'close_date': nan, 'start_map': 1950, 'end_map': 1950, 'ratp_id': 2200}\n",
      "{'stop_id': 190818, 'stop_name': 'Champs-Elysées-Clémenceau', 'stop_line': '1', 'stop_info': 'Clemenceau was added to Champs-Elysees in-between 1915 and 1950', 'open_date': '1900-07-19', 'close_date': nan, 'start_map': 1950, 'end_map': 1950, 'ratp_id': 2544}\n",
      "{'stop_id': 190827, 'stop_name': 'Havre-Caumartin', 'stop_line': '3', 'stop_info': 'stop_name changed from Caumartin to Havre-Caumartin in-between 1915 and 1950', 'open_date': '1904-10-19', 'close_date': nan, 'start_map': 1950, 'end_map': 1950, 'ratp_id': 2286}\n",
      "{'stop_id': 1950158, 'stop_name': 'Montmartre', 'stop_line': '8', 'stop_info': None, 'open_date': '1931-05-05', 'close_date': '1998-09-01', 'start_map': 1950, 'end_map': 1950, 'ratp_id': 1712}\n",
      "{'stop_id': 190839, 'stop_name': 'Strasbourg-Saint-Denis', 'stop_line': '4', 'stop_info': 'stop_name changed from Saint-Denis to Strasbourg-Saint-Denis in-between 1915 and 1950', 'open_date': '1908-04-21', 'close_date': nan, 'start_map': 1950, 'end_map': 1950, 'ratp_id': 1678}\n",
      "{'stop_id': 190867, 'stop_name': 'Colonel Fabien', 'stop_line': '2', 'stop_info': 'stop_line was renamed from Combat to Colonel Fabien after WWII in honor of Fabien', 'open_date': '1945-08-19', 'close_date': nan, 'start_map': 1950, 'end_map': 1950, 'ratp_id': 1978}\n",
      "{'stop_id': 190892, 'stop_name': 'Picpus', 'stop_line': '6', 'stop_info': 'Saint-Mandé was changed to Picpus in-between 1915 to 1950', 'open_date': '1937-03-01', 'close_date': nan, 'start_map': 1950, 'end_map': 1950, 'ratp_id': 1789}\n",
      "{'stop_id': 190895, 'stop_name': 'Dugommier', 'stop_line': '6', 'stop_info': 'Charenton was changed to Dugommier in-between 1915 and 1950', 'open_date': '1939-07-12', 'close_date': nan, 'start_map': 1950, 'end_map': 1950, 'ratp_id': 2082}\n",
      "{'stop_id': 190889, 'stop_name': \"Gare d'Orleans - Austerlitz\", 'stop_line': '5', 'stop_info': \"Austerlitz was added to Gare d'Orleans in-between 1915 and 1950 and only remains\", 'open_date': '1906-06-02', 'close_date': '1930-10-15', 'start_map': 1950, 'end_map': 1950, 'ratp_id': 1951}\n",
      "{'stop_id': 190888, 'stop_name': 'Quai de la Rapée', 'stop_line': '5', 'stop_info': 'Austerlitz changed to Quai de la Rapée in 1916', 'open_date': '1916-06-01', 'close_date': nan, 'start_map': 1950, 'end_map': 1950, 'ratp_id': 1759}\n",
      "{'stop_id': 190858, 'stop_name': 'Montparnasse-Bienvenue', 'stop_line': '6', 'stop_info': 'Maine station was merged with Montpanasse - Bienvenue in-between 1915 and 1950', 'open_date': '1910-01-09', 'close_date': nan, 'start_map': 1950, 'end_map': 1950, 'ratp_id': 1824}\n",
      "{'stop_id': 190857, 'stop_name': 'Montparnasse-Bienvenue', 'stop_line': '4', 'stop_info': 'Gare Montparnasse was changed to Montparnasse-Bienvenue in-between 1915 and 1950', 'open_date': '1910-01-09', 'close_date': nan, 'start_map': 1950, 'end_map': 1950, 'ratp_id': 1824}\n",
      "{'stop_id': 190832, 'stop_name': 'La Motte-Picquet-Grenelle', 'stop_line': '6', 'stop_info': 'Motte-Picquet was modified with Grenelle in-between 1915 and 1950', 'open_date': '1906-04-24', 'close_date': nan, 'start_map': 1950, 'end_map': 1950, 'ratp_id': 2241}\n",
      "{'stop_id': 190823, 'stop_name': 'Bir-Hakeim (Grenelle)', 'stop_line': '6', 'stop_info': 'Grenelle was changed to Bir-Hakeim after WWII in honor of the soldier', 'open_date': '1906-04-24', 'close_date': nan, 'start_map': 1950, 'end_map': 1950, 'ratp_id': 2069}\n",
      "{'stop_id': 19159, 'stop_name': \"Église d'Auteuil\", 'stop_line': '10', 'stop_info': \"Wilhem changed to Eglise d'Auteuil in-between 1915 and 1950\", 'open_date': '1921-05-15', 'close_date': nan, 'start_map': 1950, 'end_map': 1950, 'ratp_id': 2256}\n",
      "{'stop_id': 191512, 'stop_name': 'Charles Michels', 'stop_line': '10', 'stop_info': 'Beaugrenelle was changed to Charles Michels after WWII in honor of Michels', 'open_date': '1945-07-14', 'close_date': nan, 'start_map': 1950, 'end_map': 1950, 'ratp_id': 2031}\n",
      "{'stop_id': 191513, 'stop_name': 'Avenue Emile-Zola', 'stop_line': '10', 'stop_info': 'Commerce was changed to Emile Zola in-between 1915 and 1950', 'open_date': '1913-07-13', 'close_date': nan, 'start_map': 1950, 'end_map': 1950, 'ratp_id': 2057}\n",
      "{'stop_id': 19082, 'stop_name': 'Porte Dauphine', 'stop_line': '2', 'stop_info': None, 'open_date': '1900-12-13', 'close_date': nan, 'start_map': 1915, 'end_map': 1950, 'ratp_id': 2414}\n",
      "{'stop_id': 19083, 'stop_name': 'Porte Dauphine', 'stop_line': '2', 'stop_info': None, 'open_date': '1900-12-13', 'close_date': nan, 'start_map': 1915, 'end_map': 1950, 'ratp_id': 2414}\n",
      "{'stop_id': 19084, 'stop_name': 'Victor Hugo', 'stop_line': '2', 'stop_info': None, 'open_date': '1900-12-13', 'close_date': nan, 'start_map': 1915, 'end_map': 1950, 'ratp_id': 2504}\n",
      "{'stop_id': 19086, 'stop_name': 'Etoile', 'stop_line': '2', 'stop_info': None, 'open_date': '1900-07-19', 'close_date': nan, 'start_map': 1915, 'end_map': 1950, 'ratp_id': 2030}\n",
      "{'stop_id': 19087, 'stop_name': 'Ternes', 'stop_line': '2', 'stop_info': None, 'open_date': '1902-10-07', 'close_date': nan, 'start_map': 1915, 'end_map': 1950, 'ratp_id': 1684}\n",
      "{'stop_id': 19088, 'stop_name': 'Courcelles', 'stop_line': '2', 'stop_info': None, 'open_date': '1902-10-07', 'close_date': nan, 'start_map': 1915, 'end_map': 1950, 'ratp_id': 2179}\n",
      "{'stop_id': 19089, 'stop_name': 'Monceau', 'stop_line': '2', 'stop_info': None, 'open_date': '1902-10-07', 'close_date': nan, 'start_map': 1915, 'end_map': 1950, 'ratp_id': 1822}\n",
      "{'stop_id': 190810, 'stop_name': 'Villiers', 'stop_line': '2', 'stop_info': None, 'open_date': '1902-10-07', 'close_date': nan, 'start_map': 1915, 'end_map': 1950, 'ratp_id': 1630}\n",
      "{'stop_id': 190811, 'stop_name': 'Kléber', 'stop_line': '5', 'stop_info': None, 'open_date': '1900-10-02', 'close_date': nan, 'start_map': 1915, 'end_map': 1915, 'ratp_id': 2234}\n",
      "{'stop_id': 190811, 'stop_name': 'Kléber', 'stop_line': '6', 'stop_info': None, 'open_date': '1900-10-02', 'close_date': nan, 'start_map': 1950, 'end_map': 1950, 'ratp_id': 2234}\n",
      "{'stop_id': 190813, 'stop_name': 'Boissière', 'stop_line': '5', 'stop_info': None, 'open_date': '1900-10-02', 'close_date': nan, 'start_map': 1915, 'end_map': 1915, 'ratp_id': 2122}\n",
      "{'stop_id': 190813, 'stop_name': 'Boissière', 'stop_line': '6', 'stop_info': None, 'open_date': '1900-10-02', 'close_date': nan, 'start_map': 1950, 'end_map': 1950, 'ratp_id': 2122}\n",
      "{'stop_id': 190814, 'stop_name': 'Rome', 'stop_line': '2', 'stop_info': None, 'open_date': '1902-10-07', 'close_date': nan, 'start_map': 1915, 'end_map': 1950, 'ratp_id': 1707}\n",
      "{'stop_id': 190816, 'stop_name': 'Trocadéro', 'stop_line': '5', 'stop_info': None, 'open_date': '1900-10-02', 'close_date': nan, 'start_map': 1915, 'end_map': 1915, 'ratp_id': 1687}\n",
      "{'stop_id': 190816, 'stop_name': 'Trocadéro', 'stop_line': '6', 'stop_info': None, 'open_date': '1900-10-02', 'close_date': nan, 'start_map': 1950, 'end_map': 1950, 'ratp_id': 1687}\n",
      "{'stop_id': 190817, 'stop_name': 'Passy', 'stop_line': '5', 'stop_info': None, 'open_date': '1903-11-05', 'close_date': nan, 'start_map': 1915, 'end_map': 1915, 'ratp_id': 1780}\n",
      "{'stop_id': 190817, 'stop_name': 'Passy', 'stop_line': '6', 'stop_info': None, 'open_date': '1903-11-05', 'close_date': nan, 'start_map': 1950, 'end_map': 1950, 'ratp_id': 1780}\n",
      "{'stop_id': 190819, 'stop_name': 'Place de Clichy', 'stop_line': '2', 'stop_info': None, 'open_date': '1902-10-07', 'close_date': nan, 'start_map': 1915, 'end_map': 1950, 'ratp_id': 1796}\n",
      "{'stop_id': 190820, 'stop_name': 'Blanche', 'stop_line': '2', 'stop_info': None, 'open_date': '1902-10-07', 'close_date': nan, 'start_map': 1915, 'end_map': 1950, 'ratp_id': 2120}\n",
      "{'stop_id': 190821, 'stop_name': 'Pigalle', 'stop_line': '2', 'stop_info': None, 'open_date': '1902-10-07', 'close_date': nan, 'start_map': 1915, 'end_map': 1950, 'ratp_id': 1792}\n",
      "{'stop_id': 190823, 'stop_name': 'La Motte-Picquet-Grenelle', 'stop_line': '5', 'stop_info': None, 'open_date': '1906-04-24', 'close_date': nan, 'start_map': 1915, 'end_map': 1915, 'ratp_id': 2241}\n",
      "{'stop_id': 190823, 'stop_name': 'La Motte-Picquet-Grenelle', 'stop_line': '6', 'stop_info': None, 'open_date': '1906-04-24', 'close_date': nan, 'start_map': 1950, 'end_map': 1950, 'ratp_id': 2241}\n",
      "{'stop_id': 190829, 'stop_name': 'Anvers', 'stop_line': '2', 'stop_info': None, 'open_date': '1902-10-07', 'close_date': nan, 'start_map': 1915, 'end_map': 1950, 'ratp_id': 2046}\n",
      "{'stop_id': 190831, 'stop_name': 'Dupleix', 'stop_line': '5', 'stop_info': None, 'open_date': '1906-04-24', 'close_date': nan, 'start_map': 1915, 'end_map': 1915, 'ratp_id': 2251}\n",
      "{'stop_id': 190831, 'stop_name': 'Dupleix', 'stop_line': '6', 'stop_info': None, 'open_date': '1906-04-24', 'close_date': nan, 'start_map': 1950, 'end_map': 1950, 'ratp_id': 2251}\n",
      "{'stop_id': 190832, 'stop_name': 'La Motte-Picquet-Grenelle', 'stop_line': '5', 'stop_info': None, 'open_date': '1906-04-24', 'close_date': nan, 'start_map': 1915, 'end_map': 1915, 'ratp_id': 2241}\n",
      "{'stop_id': 190832, 'stop_name': 'La Motte-Picquet-Grenelle', 'stop_line': '6', 'stop_info': None, 'open_date': '1906-04-24', 'close_date': nan, 'start_map': 1950, 'end_map': 1950, 'ratp_id': 2241}\n",
      "{'stop_id': 190833, 'stop_name': 'Cambronne', 'stop_line': '5', 'stop_info': None, 'open_date': '1906-04-24', 'close_date': nan, 'start_map': 1915, 'end_map': 1915, 'ratp_id': 2135}\n",
      "{'stop_id': 190833, 'stop_name': 'Cambronne', 'stop_line': '6', 'stop_info': None, 'open_date': '1906-04-24', 'close_date': nan, 'start_map': 1950, 'end_map': 1950, 'ratp_id': 2135}\n",
      "{'stop_id': 190834, 'stop_name': 'Sèvres-Lecourbe', 'stop_line': '5', 'stop_info': None, 'open_date': '1906-04-24', 'close_date': nan, 'start_map': 1915, 'end_map': 1915, 'ratp_id': 1665}\n",
      "{'stop_id': 190834, 'stop_name': 'Sèvres-Lecourbe', 'stop_line': '6', 'stop_info': None, 'open_date': '1906-04-24', 'close_date': nan, 'start_map': 1950, 'end_map': 1950, 'ratp_id': 1665}\n",
      "{'stop_id': 190858, 'stop_name': 'Maine', 'stop_line': '5', 'stop_info': None, 'open_date': '1906-04-24', 'close_date': '1933-06-30', 'start_map': 1915, 'end_map': 1915, 'ratp_id': 4944}\n",
      "{'stop_id': 190859, 'stop_name': 'Pasteur', 'stop_line': '5', 'stop_info': None, 'open_date': '1906-04-24', 'close_date': nan, 'start_map': 1915, 'end_map': 1915, 'ratp_id': 2392}\n",
      "{'stop_id': 190859, 'stop_name': 'Pasteur', 'stop_line': '6', 'stop_info': None, 'open_date': '1906-04-24', 'close_date': nan, 'start_map': 1950, 'end_map': 1950, 'ratp_id': 2392}\n",
      "{'stop_id': 190861, 'stop_name': 'Barbès-Rochechouart', 'stop_line': '2', 'stop_info': None, 'open_date': '1903-01-31', 'close_date': nan, 'start_map': 1915, 'end_map': 1950, 'ratp_id': 2061}\n",
      "{'stop_id': 190862, 'stop_name': 'La Chapelle', 'stop_line': '2', 'stop_info': None, 'open_date': '1903-01-31', 'close_date': nan, 'start_map': 1915, 'end_map': 1950, 'ratp_id': 2235}\n",
      "{'stop_id': 190863, 'stop_name': 'Aubervilliers', 'stop_line': '2', 'stop_info': None, 'open_date': '1903-01-31', 'close_date': nan, 'start_map': 1915, 'end_map': 1950, 'ratp_id': 2486}\n",
      "{'stop_id': 190866, 'stop_name': 'Allemagne', 'stop_line': '2', 'stop_info': None, 'open_date': '1903-01-31', 'close_date': '1914-08-01', 'start_map': 1915, 'end_map': 1950, 'ratp_id': 1900}\n",
      "{'stop_id': 190867, 'stop_name': 'Combat', 'stop_line': '2', 'stop_info': None, 'open_date': '1903-01-31', 'close_date': '1945-08-19', 'start_map': 1915, 'end_map': 1915, 'ratp_id': 1978}\n",
      "{'stop_id': 190870, 'stop_name': 'Belleville', 'stop_line': '2', 'stop_info': None, 'open_date': '1903-01-31', 'close_date': nan, 'start_map': 1915, 'end_map': 1950, 'ratp_id': 2115}\n",
      "{'stop_id': 190871, 'stop_name': 'Couronnes', 'stop_line': '2', 'stop_info': None, 'open_date': '1903-01-31', 'close_date': nan, 'start_map': 1915, 'end_map': 1950, 'ratp_id': 2128}\n",
      "{'stop_id': 190872, 'stop_name': 'Ménilmontant', 'stop_line': '2', 'stop_info': None, 'open_date': '1903-01-31', 'close_date': nan, 'start_map': 1915, 'end_map': 1950, 'ratp_id': 2351}\n",
      "{'stop_id': 190875, 'stop_name': 'Philippe Auguste', 'stop_line': '2', 'stop_info': None, 'open_date': '1903-01-31', 'close_date': nan, 'start_map': 1915, 'end_map': 1950, 'ratp_id': 2398}\n",
      "{'stop_id': 190877, 'stop_name': 'Bagnolet', 'stop_line': '2', 'stop_info': None, 'open_date': '1903-01-31', 'close_date': '1970-09-13', 'start_map': 1915, 'end_map': 1950, 'ratp_id': 2041}\n",
      "{'stop_id': 190886, 'stop_name': 'Avron', 'stop_line': '2', 'stop_info': None, 'open_date': '1903-04-02', 'close_date': nan, 'start_map': 1915, 'end_map': 1950, 'ratp_id': 2107}\n",
      "{'stop_id': 1908103, 'stop_name': \"Place d'Italie\", 'stop_line': '5', 'stop_info': None, 'open_date': '1906-04-24', 'close_date': nan, 'start_map': 1915, 'end_map': 1915, 'ratp_id': 1794}\n",
      "{'stop_id': 1908103, 'stop_name': \"Place d'Italie\", 'stop_line': '6', 'stop_info': None, 'open_date': '1906-04-24', 'close_date': nan, 'start_map': 1950, 'end_map': 1950, 'ratp_id': 1794}\n",
      "{'stop_id': 1908104, 'stop_name': 'Corvisart', 'stop_line': '5', 'stop_info': None, 'open_date': '1906-04-24', 'close_date': nan, 'start_map': 1915, 'end_map': 1915, 'ratp_id': 2177}\n",
      "{'stop_id': 1908104, 'stop_name': 'Corvisart', 'stop_line': '6', 'stop_info': None, 'open_date': '1906-04-24', 'close_date': nan, 'start_map': 1950, 'end_map': 1950, 'ratp_id': 2177}\n",
      "{'stop_id': 1908105, 'stop_name': 'Glacière', 'stop_line': '5', 'stop_info': None, 'open_date': '1906-04-24', 'close_date': nan, 'start_map': 1915, 'end_map': 1915, 'ratp_id': 2217}\n",
      "{'stop_id': 1908105, 'stop_name': 'Glacière', 'stop_line': '6', 'stop_info': None, 'open_date': '1906-04-24', 'close_date': nan, 'start_map': 1950, 'end_map': 1950, 'ratp_id': 2217}\n",
      "{'stop_id': 1908106, 'stop_name': 'Saint-Jacques', 'stop_line': '5', 'stop_info': None, 'open_date': '1906-04-24', 'close_date': nan, 'start_map': 1915, 'end_map': 1915, 'ratp_id': 2520}\n",
      "{'stop_id': 1908106, 'stop_name': 'Saint-Jacques', 'stop_line': '6', 'stop_info': None, 'open_date': '1906-04-24', 'close_date': nan, 'start_map': 1950, 'end_map': 1950, 'ratp_id': 2520}\n",
      "{'stop_id': 1908108, 'stop_name': 'Raspail', 'stop_line': '5', 'stop_info': None, 'open_date': '1910-01-09', 'close_date': nan, 'start_map': 1915, 'end_map': 1915, 'ratp_id': 1763}\n",
      "{'stop_id': 1908108, 'stop_name': 'Raspail', 'stop_line': '6', 'stop_info': None, 'open_date': '1910-01-09', 'close_date': nan, 'start_map': 1950, 'end_map': 1950, 'ratp_id': 1763}\n",
      "{'stop_id': 1908111, 'stop_name': 'Denfert-Rochereau', 'stop_line': '5', 'stop_info': None, 'open_date': '1909-10-30', 'close_date': nan, 'start_map': 1915, 'end_map': 1915, 'ratp_id': 2187}\n",
      "{'stop_id': 1908111, 'stop_name': 'Denfert-Rochereau', 'stop_line': '6', 'stop_info': None, 'open_date': '1909-10-30', 'close_date': nan, 'start_map': 1950, 'end_map': 1950, 'ratp_id': 2187}\n",
      "{'stop_id': 1908115, 'stop_name': 'Edgar-Quinet', 'stop_line': '5', 'stop_info': None, 'open_date': '1906-04-24', 'close_date': nan, 'start_map': 1915, 'end_map': 1915, 'ratp_id': 2255}\n",
      "{'stop_id': 1908115, 'stop_name': 'Edgar-Quinet', 'stop_line': '6', 'stop_info': None, 'open_date': '1906-04-24', 'close_date': nan, 'start_map': 1950, 'end_map': 1950, 'ratp_id': 2255}\n",
      "{'stop_id': 1908124, 'stop_name': 'Père-Lachaise', 'stop_line': '2', 'stop_info': None, 'open_date': '1904-10-19', 'close_date': nan, 'start_map': 1915, 'end_map': 1950, 'ratp_id': 2394}\n",
      "{'stop_id': 1908125, 'stop_name': 'Nation', 'stop_line': '2', 'stop_info': 'Widely known for having the most active guillotines during the French Revolution, the square was renamed Place de la Nation on Bastille Day, 14 July 1880, under the Third Republic.The square includes a large bronze sculpture, the Triomphe de la Républiq', 'open_date': '1900-07-19', 'close_date': nan, 'start_map': 1915, 'end_map': 1950, 'ratp_id': 2371}\n",
      "{'stop_id': 1908130, 'stop_name': 'Etoile', 'stop_line': '5', 'stop_info': None, 'open_date': '1900-07-19', 'close_date': nan, 'start_map': 1915, 'end_map': 1915, 'ratp_id': 2030}\n",
      "{'stop_id': 1908130, 'stop_name': 'Etoile', 'stop_line': '6', 'stop_info': None, 'open_date': '1900-07-19', 'close_date': nan, 'start_map': 1950, 'end_map': 1950, 'ratp_id': 2030}\n"
     ]
    }
   ],
   "source": [
    "for item in check_geo:\n",
    "    print(item['properties'])"
   ]
  },
  {
   "cell_type": "code",
   "execution_count": 21,
   "metadata": {},
   "outputs": [
    {
     "name": "stdout",
     "output_type": "stream",
     "text": [
      "[2.283875687160487, 48.87671727241535]\n",
      "[2.277593685385499, 48.87225307885228]\n",
      "[2.277465602593661, 48.87078012674614]\n",
      "[2.28559885987542, 48.86994758859919]\n",
      "[2.288288598504033, 48.87532706585641]\n",
      "[2.295141027867405, 48.87475069329314]\n",
      "[2.298535221851131, 48.878080845880945]\n",
      "[2.303274285149164, 48.879169549611575]\n",
      "[2.308141431239036, 48.880514418925884]\n",
      "[2.313072618724827, 48.881218874281]\n",
      "[2.292195123655115, 48.87058800255838]\n",
      "[2.300072215353196, 48.87142054070533]\n",
      "[2.289761550610179, 48.86725784997057]\n",
      "[2.319412716920844, 48.88217949521979]\n",
      "[2.304939361443068, 48.870011629995105]\n",
      "[2.287648184544839, 48.86418386296644]\n",
      "[2.284766321728468, 48.85867630291738]\n",
      "[2.313456867100343, 48.86738593276241]\n",
      "[2.327738098390362, 48.88397265430553]\n",
      "[2.331772706333282, 48.88397265430553]\n",
      "[2.337408349174186, 48.88269182638714]\n",
      "[2.32287095230049, 48.87596747981561]\n",
      "[2.288993053859147, 48.854001281015265]\n",
      "[2.324471987198474, 48.86578489786443]\n",
      "[2.329915505851621, 48.864119821570526]\n",
      "[2.336767935214993, 48.862070496901104]\n",
      "[2.329082967704669, 48.873277741186996]\n",
      "[2.332605244480234, 48.87090820953798]\n",
      "[2.344260778537558, 48.88339628174225]\n",
      "[2.349384090211108, 48.88435690268104]\n",
      "[2.292835537614308, 48.8501587972601]\n",
      "[2.297062269744986, 48.84868584515396]\n",
      "[2.301289001875665, 48.847276934443734]\n",
      "[2.307693141467601, 48.84522760977431]\n",
      "[2.348999841835592, 48.88839151062396]\n",
      "[2.336383686839477, 48.869371216035915]\n",
      "[2.341250832929349, 48.868282512305285]\n",
      "[2.345733730643704, 48.86738593276241]\n",
      "[2.353995070717302, 48.86943525743183]\n",
      "[2.355724188407125, 48.872445203040044]\n",
      "[2.35726118190919, 48.87680001796256]\n",
      "[2.361039624268432, 48.870972250933896]\n",
      "[2.355788229803045, 48.865464690884835]\n",
      "[2.345605647851865, 48.8623907038807]\n",
      "[2.341571039908946, 48.860469462003124]\n",
      "[2.348807717647833, 48.86399173877869]\n",
      "[2.352586160007076, 48.85701122662348]\n",
      "[2.346502227394736, 48.8587403443133]\n",
      "[2.347783055313124, 48.85464169497446]\n",
      "[2.347014558562091, 48.85976500664801]\n",
      "[2.342403578055897, 48.852656411700956]\n",
      "[2.33804876313338, 48.85175983215809]\n",
      "[2.334718610545573, 48.8524642875132]\n",
      "[2.331132292374089, 48.85041496284378]\n",
      "[2.328826802120992, 48.84804543119476]\n",
      "[2.325624732325024, 48.843242326500814]\n",
      "[2.32088566902699, 48.841641291602826]\n",
      "[2.31225086734149, 48.841473098040304]\n",
      "[2.355152270008888, 48.88080327404388]\n",
      "[2.350997509576463, 48.884444524759935]\n",
      "[2.359166982336849, 48.885144765282256]\n",
      "[2.364208714097544, 48.88505139987928]\n",
      "[2.349083518815458, 48.89140024728164]\n",
      "[2.346609335636598, 48.89490144989323]\n",
      "[2.369203763156751, 48.882670582103394]\n",
      "[2.370697609604365, 48.8776288503427]\n",
      "[2.36518905082879, 48.86693851170197]\n",
      "[2.343528277338396, 48.89840265250482]\n",
      "[2.376206168379939, 48.87212029156712]\n",
      "[2.379754053693021, 48.868992550567434]\n",
      "[2.383488669812054, 48.86661173279155]\n",
      "[2.386569728110257, 48.86283043397103]\n",
      "[2.394038960348324, 48.86455769392608]\n",
      "[2.389324007498044, 48.858582308135624]\n",
      "[2.397866941870333, 48.86516456904542]\n",
      "[2.393618816034933, 48.85624817306123]\n",
      "[2.373825350604055, 48.865351299851376]\n",
      "[2.378493620752847, 48.86432428041864]\n",
      "[2.369483859365678, 48.8637174052993]\n",
      "[2.371257802022219, 48.860683029702585]\n",
      "[2.370184099887997, 48.857648654105866]\n",
      "[2.368410157231456, 48.85396072068832]\n",
      "[2.360754194187438, 48.855174470927004]\n",
      "[2.366356118365988, 48.84985264295739]\n",
      "[2.396606508930159, 48.85246687424071]\n",
      "[2.372938379275785, 48.84607134413687]\n",
      "[2.366636214574916, 48.846304757644305]\n",
      "[2.364395444903496, 48.84275687233122]\n",
      "[2.386242949199842, 48.84775192139043]\n",
      "[2.3941323257513, 48.84821874840531]\n",
      "[2.400341125049193, 48.84551115171901]\n",
      "[2.399594201825386, 48.84257014152527]\n",
      "[2.395626172198913, 48.84018932374939]\n",
      "[2.388437036169774, 48.83990922754046]\n",
      "[2.380127515304924, 48.84079619886873]\n",
      "[2.372518234962393, 48.83776182327202]\n",
      "[2.367196406992771, 48.83524095739167]\n",
      "[2.405803001123279, 48.847751921390426]\n",
      "[2.360287367172559, 48.83813528488393]\n",
      "[2.362201357933563, 48.83346701473514]\n",
      "[2.35846674181453, 48.835567736302096]\n",
      "[2.35645938565055, 48.8316930720786]\n",
      "[2.350343951755632, 48.829498985108664]\n",
      "[2.343855056248812, 48.83085278345182]\n",
      "[2.337552891547943, 48.83243999530241]\n",
      "[2.329290053384581, 48.84219667991338]\n",
      "[2.330457120921779, 48.838788842704766]\n",
      "[2.331624188458977, 48.83869547730179]\n",
      "[2.332044332772368, 48.83370042824258]\n",
      "[2.332044332772368, 48.83463408227234]\n",
      "[2.330130342011364, 48.83145965857116]\n",
      "[2.32751611072804, 48.82828523486998]\n",
      "[2.326349043190842, 48.82413047443756]\n",
      "[2.324855196743228, 48.8407261748165]\n",
      "[2.352024529009197, 48.866226600504284]\n",
      "[2.360614146082974, 48.86650669671321]\n",
      "[2.321027215221219, 48.87925107421941]\n",
      "[2.367943330216577, 48.85224513140865]\n",
      "[2.31310991650625, 48.88107279130376]\n",
      "[2.355180351385521, 48.880939171849654]\n",
      "[2.357007149056435, 48.87691159280057]\n",
      "[2.365271346128647, 48.867068567506834]\n",
      "[2.386529138770888, 48.86291311685181]\n",
      "[2.394157307448217, 48.848427189871956]\n",
      "[2.39414282547156, 48.84831857504703]\n",
      "[2.356421129134107, 48.8317413388931]\n",
      "[2.356521327410805, 48.83171337658332]\n",
      "[2.295052551277482, 48.87488548403311]\n",
      "[2.294593257877085, 48.87423133888709]\n",
      "[2.35211499747496, 48.866262203851115]\n",
      "[2.308004724021708, 48.88308645435147]\n",
      "[2.303029030271698, 48.883986817982425]\n",
      "[2.298811537474071, 48.88455546869672]\n",
      "[2.291987728902628, 48.88545583232767]\n",
      "[2.259574638188278, 48.84934651197046]\n",
      "[2.259574638188278, 48.84934651197046]\n",
      "[2.260806714735899, 48.846929746434746]\n",
      "[2.260806714735899, 48.846929746434746]\n",
      "[2.270900264914491, 48.84797227274427]\n",
      "[2.270900264914491, 48.84797227274427]\n",
      "[2.263680574205717, 48.84921934274323]\n",
      "[2.263680574205717, 48.84921934274323]\n",
      "[2.26938523855572, 48.8483131330418]\n",
      "[2.266295212032802, 48.846738407986855]\n",
      "[2.266295212032802, 48.846738407986855]\n",
      "[2.278521615053772, 48.84727322026968]\n",
      "[2.278521615053772, 48.84727322026968]\n",
      "[2.286276393154558, 48.847302932063165]\n",
      "[2.294090594842323, 48.84737721154689]\n",
      "[2.296749800359641, 48.849486748884644]\n",
      "[2.301681958078915, 48.852532207717324]\n",
      "[2.305589058922798, 48.85495371888673]\n",
      "[2.309674430527617, 48.857464365436606]\n",
      "[2.314294614415249, 48.86027212992137]\n",
      "[2.322911034527233, 48.8669424275598]\n",
      "[2.326922126648329, 48.86899254131057]\n",
      "[2.333419778707281, 48.870052699335375]\n",
      "[2.334528345781666, 48.87414753748101]\n",
      "[2.383380409796511, 48.89736436094375]\n",
      "[2.379563673340521, 48.8952984210272]\n",
      "[2.375992048400052, 48.891971907602255]\n",
      "[2.373260805798517, 48.88941574465466]\n",
      "[2.368813782588326, 48.88542392854473]\n",
      "[2.393149854486616, 48.88153716022716]\n",
      "[2.398717387482052, 48.8798563955493]\n",
      "[2.392519567732416, 48.87607467502409]\n",
      "[2.388177592314591, 48.87933115658746]\n",
      "[2.381139390226021, 48.87842074238695]\n",
      "[2.37543179350743, 48.880836841611384]\n",
      "[2.364644957165223, 48.881595216614016]\n",
      "[2.369203763156751, 48.882670582103394]\n",
      "[2.362160755738434, 48.87933115658747]\n",
      "[2.35726118190919, 48.87680001796256]\n",
      "[2.349414956931273, 48.87810559900986]\n",
      "[2.344652790343982, 48.87684502550146]\n",
      "[2.340590942372469, 48.875724515716215]\n",
      "[2.327223219201314, 48.84636570305879]\n",
      "[2.333606573231748, 48.87016785285483]\n",
      "[2.369640818832079, 48.88342237046027]\n",
      "[2.330130342011364, 48.83145965857116]\n",
      "[2.32751611072804, 48.82828523486998]\n",
      "[2.307693141467601, 48.84522760977431]\n",
      "[2.350997509576463, 48.884444524759935]\n",
      "[2.349384090211108, 48.88435690268104]\n",
      "[2.364108636016742, 48.88220484091565]\n",
      "[2.328826802120992, 48.84804543119476]\n",
      "[2.286437084265087, 48.887639752581904]\n",
      "[2.283406633492817, 48.89046623070604]\n",
      "[2.278190761490543, 48.89649799330085]\n",
      "[2.24721605792397, 48.835626727307854]\n",
      "[2.256423966039714, 48.839181679175326]\n",
      "[2.258813359917851, 48.84253265839467]\n",
      "[2.26079480849972, 48.845650526016136]\n",
      "[2.262514006533989, 48.84836044834134]\n",
      "[2.267117960591861, 48.85226506760561]\n",
      "[2.268924575475331, 48.855324657327614]\n",
      "[2.27411130852787, 48.858092857552286]\n",
      "[2.277753677244541, 48.86409548119736]\n",
      "[2.293226459552961, 48.86432859279523]\n",
      "[2.299899279041903, 48.8649113717899]\n",
      "[2.308495269213247, 48.86843718470764]\n",
      "[2.309282020856048, 48.87254577662004]\n",
      "[2.315546895048723, 48.87394444620723]\n",
      "[2.32157865764353, 48.87441066940297]\n",
      "[2.328630283479006, 48.87385702935804]\n",
      "[2.334428934475946, 48.872808027167636]\n",
      "[2.33990705702582, 48.87196299762537]\n",
      "[2.343607703641957, 48.87140935758044]\n",
      "[2.34847390824743, 48.87056432803817]\n",
      "[2.354418253993037, 48.869369631099104]\n",
      "[2.362810271516247, 48.86776698886377]\n",
      "[2.37035725949719, 48.8639497864487]\n",
      "[2.375310880951863, 48.8605405293299]\n",
      "[2.380089668708135, 48.85771405120577]\n",
      "[2.385684347056942, 48.8545961835843]\n",
      "[2.388802214678413, 48.85273129080136]\n",
      "[2.396232646860422, 48.84914719998416]\n",
      "[2.401011434616695, 48.85159487176177]\n",
      "[2.406489557166569, 48.8526730129019]\n",
      "[2.412229930264042, 48.85351804244417]\n",
      "[2.275947062361072, 48.83612208945335]\n",
      "[2.281716574408279, 48.83830751068335]\n",
      "[2.287311252757086, 48.84037637611441]\n",
      "[2.292060901563625, 48.842561797344416]\n",
      "[2.294392017542295, 48.84486377437336]\n",
      "[2.2987628600023, 48.84923461683336]\n",
      "[2.33990705702582, 48.87196299762537]\n",
      "[2.339898099710591, 48.871754701066415]\n",
      "[2.348299074549029, 48.87009810484245]\n",
      "[2.354126864495703, 48.86907824160178]\n",
      "[2.357740094262641, 48.86840804575791]\n",
      "[2.358206317458375, 48.869019963702314]\n",
      "[2.36196524197398, 48.867592155165376]\n",
      "[2.366073833886385, 48.863192173755635]\n",
      "[2.367443364523853, 48.860336556681766]\n",
      "[2.36767647612172, 48.856781604814294]\n",
      "[2.369016867809455, 48.853663737192825]\n",
      "[2.37519432515293, 48.851157787515746]\n",
      "[2.384314816419475, 48.85016706322481]\n",
      "[2.387039308219545, 48.84761740512314]\n",
      "[2.390244592690215, 48.844645232250336]\n",
      "[2.395810132089289, 48.839808166594594]\n",
      "[2.404289566461699, 48.83663202107366]\n",
      "[2.406620682440369, 48.834971100938866]\n",
      "[2.399773029253027, 48.83202806701579]\n",
      "[2.407931935178371, 48.826112860219915]\n",
      "[2.359357305972843, 48.897736398664534]\n",
      "[2.360668558710845, 48.89042252228146]\n",
      "[2.351314955846433, 48.89112185707506]\n",
      "[2.343971940513624, 48.89249138771253]\n",
      "[2.338522956913483, 48.88946093694025]\n",
      "[2.338202428466416, 48.884711288133715]\n",
      "[2.337677927371215, 48.88229275530584]\n",
      "[2.337328259974415, 48.87865038658917]\n",
      "[2.338522956913482, 48.87591132531424]\n",
      "[2.332432916419208, 48.876202714811576]\n",
      "[2.327071349668268, 48.87556165791744]\n",
      "[2.323924343097064, 48.866441166650894]\n",
      "[2.321156142872394, 48.86102132200049]\n",
      "[2.32310845250453, 48.85912729026782]\n",
      "[2.326721682271468, 48.85510611520461]\n",
      "[2.327741545512136, 48.85169685808581]\n",
      "[2.328266046607336, 48.84980282635314]\n",
      "[2.329548160395605, 48.84449953750167]\n",
      "[2.322787924057463, 48.84455781540113]\n",
      "[2.318038275250923, 48.84429556485353]\n",
      "[2.313026375896784, 48.84275120051766]\n",
      "[2.307693948095577, 48.84114855828233]\n",
      "[2.302157547646237, 48.839487638147524]\n",
      "[2.296621147196896, 48.83718566111859]\n",
      "[2.288083434925019, 48.832465151261786]\n",
      "[2.305974750061308, 48.848578990464325]\n",
      "[2.316173382467988, 48.84668495873166]\n",
      "[2.320631641777193, 48.84840415676593]\n",
      "[2.327013071768801, 48.8510849401414]\n",
      "[2.330801135234139, 48.85192996968367]\n",
      "[2.335375950342278, 48.85222135918101]\n",
      "[2.33945540330495, 48.85233791497995]\n",
      "[2.344438163709357, 48.85096838434248]\n",
      "[2.348925561968296, 48.84989024320234]\n",
      "[2.352276541187634, 48.8462770134354]\n",
      "[2.356618244697906, 48.8460147628878]\n",
      "[2.363961260030714, 48.8431300068642]\n",
      "[2.374859227230995, 48.81760428689776]\n",
      "[2.368740047786988, 48.82089698821763]\n",
      "[2.364398344276715, 48.81923606808283]\n",
      "[2.359969223917243, 48.8183327606411]\n",
      "[2.357492413189906, 48.8220042683075]\n",
      "[2.356880495245506, 48.825675775973906]\n",
      "[2.35484076876417, 48.832232039663914]\n",
      "[2.3519851516903, 48.83587440838059]\n",
      "[2.351868595891367, 48.84085716878499]\n",
      "[2.352189124338433, 48.84377106375833]\n",
      "[2.356763939446573, 48.8454902617926]\n",
      "[2.361193059806045, 48.85137632963874]\n",
      "[2.357142745793106, 48.853153805572475]\n",
      "[2.346652723889093, 48.85708756378648]\n",
      "[2.341582546635486, 48.858340538625015]\n",
      "[2.335405089292012, 48.86361468852676]\n",
      "[2.333773308106943, 48.86641202770116]\n",
      "[2.328673991903603, 48.89703706387094]\n",
      "[2.327187905467202, 48.892083442416265]\n",
      "[2.314162794936385, 48.89400661309867]\n",
      "[2.320078001732259, 48.89050993913066]\n",
      "[2.325789235879999, 48.887362932559455]\n",
      "[2.327712406562402, 48.88348745224492]\n",
      "[2.327362739165602, 48.87929144348331]\n",
      "[2.32578923588, 48.87553251896771]\n",
      "[2.314832990780252, 48.86070079355342]\n",
      "[2.315648881372787, 48.856009422646345]\n",
      "[2.315095241327853, 48.851929969683674]\n",
      "[2.316785300412388, 48.847442571424736]\n",
      "[2.321272698671327, 48.84307172896473]\n",
      "[2.322846201956929, 48.83858433070579]\n",
      "[2.318737610044524, 48.83400951559765]\n",
      "[2.313230348544917, 48.83106648167458]\n",
      "[2.306237000608909, 48.82777378035471]\n",
      "[2.345574582748961, 48.858223982826104]\n",
      "[2.352101707489235, 48.85802001017797]\n",
      "[2.353791766573771, 48.86157496204544]\n",
      "[2.356618244697908, 48.86501335811398]\n",
      "[2.363873843181516, 48.86746102989159]\n",
      "[2.370808913218058, 48.86967559007132]\n",
      "[2.376141341019265, 48.87162789970345]\n",
      "[2.385757194431278, 48.87363848723505]\n",
      "[2.389865786343683, 48.87474576732492]\n",
      "[2.393071070814353, 48.87588218636452]\n",
      "[2.398345220716093, 48.875474241068254]\n",
      "[2.407057766686371, 48.87713516120305]\n",
      "[2.416498786399983, 48.87990336142772]\n",
      "[2.40134653253863, 48.86883056052904]\n",
      "[2.404260427511967, 48.87194842815051]\n",
      "[2.40618359819437, 48.87646496535918]\n",
      "[2.27179924493941, 48.88052310332813]\n",
      "[2.260010023418836, 48.8840598697843]\n",
      "[2.370540172696534, 48.88256144972009]\n",
      "[2.379698208697564, 48.8846941430354]\n",
      "[2.38584538354757, 48.886241391126894]\n",
      "[2.392996178781251, 48.88820681437826]\n",
      "[2.402237849814254, 48.8905485952735]\n",
      "[2.411061345687393, 48.892639471072826]\n",
      "[2.367942979103002, 48.884937463049404]\n",
      "[2.288288598504033, 48.87532706585641]\n",
      "[2.349083518815458, 48.89140024728164]\n",
      "[2.300072215353196, 48.87142054070533]\n",
      "[2.307969191923143, 48.86907762210275]\n",
      "[2.313456867100343, 48.86738593276241]\n",
      "[2.329082967704669, 48.873277741186996]\n",
      "[2.343403730993823, 48.870972273334445]\n",
      "[2.353995070717302, 48.86943525743183]\n",
      "[2.370697609604365, 48.8776288503427]\n",
      "[2.400341125049193, 48.84551115171901]\n",
      "[2.388437036169774, 48.83990922754046]\n",
      "[2.364395444903496, 48.84275687233122]\n",
      "[2.366636214574916, 48.846304757644305]\n",
      "[2.32088566902699, 48.841641291602826]\n",
      "[2.325624732325024, 48.843242326500814]\n",
      "[2.297062269744986, 48.84868584515396]\n",
      "[2.288993053859147, 48.854001281015265]\n",
      "[2.26938523855572, 48.8483131330418]\n",
      "[2.286276393154558, 48.847302932063165]\n",
      "[2.294090594842323, 48.84737721154689]\n",
      "[2.277593685385499, 48.87225307885228]\n",
      "[2.277465602593661, 48.87078012674614]\n",
      "[2.28559885987542, 48.86994758859919]\n",
      "[2.295141027867405, 48.87475069329314]\n",
      "[2.298535221851131, 48.878080845880945]\n",
      "[2.303274285149164, 48.879169549611575]\n",
      "[2.308141431239036, 48.880514418925884]\n",
      "[2.313072618724827, 48.881218874281]\n",
      "[2.292195123655115, 48.87058800255838]\n",
      "[2.292195123655115, 48.87058800255838]\n",
      "[2.289761550610179, 48.86725784997057]\n",
      "[2.289761550610179, 48.86725784997057]\n",
      "[2.319412716920844, 48.88217949521979]\n",
      "[2.287648184544839, 48.86418386296644]\n",
      "[2.287648184544839, 48.86418386296644]\n",
      "[2.284766321728468, 48.85867630291738]\n",
      "[2.284766321728468, 48.85867630291738]\n",
      "[2.327738098390362, 48.88397265430553]\n",
      "[2.331772706333282, 48.88397265430553]\n",
      "[2.337408349174186, 48.88269182638714]\n",
      "[2.288993053859147, 48.854001281015265]\n",
      "[2.288993053859147, 48.854001281015265]\n",
      "[2.344260778537558, 48.88339628174225]\n",
      "[2.292835537614308, 48.8501587972601]\n",
      "[2.292835537614308, 48.8501587972601]\n",
      "[2.297062269744986, 48.84868584515396]\n",
      "[2.297062269744986, 48.84868584515396]\n",
      "[2.301289001875665, 48.847276934443734]\n",
      "[2.301289001875665, 48.847276934443734]\n",
      "[2.307693141467601, 48.84522760977431]\n",
      "[2.307693141467601, 48.84522760977431]\n",
      "[2.32088566902699, 48.841641291602826]\n",
      "[2.31225086734149, 48.841473098040304]\n",
      "[2.31225086734149, 48.841473098040304]\n",
      "[2.350997509576463, 48.884444524759935]\n",
      "[2.359166982336849, 48.885144765282256]\n",
      "[2.364208714097544, 48.88505139987928]\n",
      "[2.369203763156751, 48.882670582103394]\n",
      "[2.370697609604365, 48.8776288503427]\n",
      "[2.376206168379939, 48.87212029156712]\n",
      "[2.379754053693021, 48.868992550567434]\n",
      "[2.383488669812054, 48.86661173279155]\n",
      "[2.389324007498044, 48.858582308135624]\n",
      "[2.393618816034933, 48.85624817306123]\n",
      "[2.396606508930159, 48.85246687424071]\n",
      "[2.35645938565055, 48.8316930720786]\n",
      "[2.35645938565055, 48.8316930720786]\n",
      "[2.350343951755632, 48.829498985108664]\n",
      "[2.350343951755632, 48.829498985108664]\n",
      "[2.343855056248812, 48.83085278345182]\n",
      "[2.343855056248812, 48.83085278345182]\n",
      "[2.337552891547943, 48.83243999530241]\n",
      "[2.337552891547943, 48.83243999530241]\n",
      "[2.330457120921779, 48.838788842704766]\n",
      "[2.330457120921779, 48.838788842704766]\n",
      "[2.332044332772368, 48.83463408227234]\n",
      "[2.332044332772368, 48.83463408227234]\n",
      "[2.324855196743228, 48.8407261748165]\n",
      "[2.324855196743228, 48.8407261748165]\n",
      "[2.386529138770888, 48.86291311685181]\n",
      "[2.394157307448217, 48.848427189871956]\n",
      "[2.294593257877085, 48.87423133888709]\n",
      "[2.294593257877085, 48.87423133888709]\n"
     ]
    }
   ],
   "source": [
    "for item in geo_database:\n",
    "    print(item['geometry']['coordinates'])"
   ]
  },
  {
   "cell_type": "code",
   "execution_count": null,
   "metadata": {},
   "outputs": [],
   "source": []
  }
 ],
 "metadata": {
  "kernelspec": {
   "display_name": "Python 3",
   "language": "python",
   "name": "python3"
  },
  "language_info": {
   "codemirror_mode": {
    "name": "ipython",
    "version": 3
   },
   "file_extension": ".py",
   "mimetype": "text/x-python",
   "name": "python",
   "nbconvert_exporter": "python",
   "pygments_lexer": "ipython3",
   "version": "3.6.5"
  }
 },
 "nbformat": 4,
 "nbformat_minor": 2
}
